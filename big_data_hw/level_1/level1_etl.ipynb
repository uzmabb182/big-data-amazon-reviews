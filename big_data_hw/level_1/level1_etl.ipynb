{
  "nbformat": 4,
  "nbformat_minor": 0,
  "metadata": {
    "colab": {
      "name": "level1_etl.ipynb",
      "provenance": [],
      "collapsed_sections": []
    },
    "kernelspec": {
      "name": "python3",
      "display_name": "Python 3"
    },
    "language_info": {
      "name": "python"
    }
  },
  "cells": [
    {
      "cell_type": "code",
      "metadata": {
        "colab": {
          "base_uri": "https://localhost:8080/"
        },
        "id": "MSjDQvBBD3qu",
        "outputId": "80f2c362-3c25-48a5-80ab-aaebb596dff1"
      },
      "source": [
        "import os\n",
        "# Find the latest version of spark 3.0  from http://www.apache.org/dist/spark/ and enter as the spark version\n",
        "# For example:\n",
        "# spark_version = 'spark-3.0.3'\n",
        "spark_version = 'spark-3.0.3'\n",
        "os.environ['SPARK_VERSION']=spark_version\n",
        "\n",
        "# Install Spark and Java\n",
        "!apt-get update\n",
        "!apt-get install openjdk-11-jdk-headless -qq > /dev/null\n",
        "!wget -q http://www.apache.org/dist/spark/$SPARK_VERSION/$SPARK_VERSION-bin-hadoop2.7.tgz\n",
        "!tar xf $SPARK_VERSION-bin-hadoop2.7.tgz\n",
        "!pip install -q findspark\n",
        "\n",
        "# Set Environment Variables\n",
        "os.environ[\"JAVA_HOME\"] = \"/usr/lib/jvm/java-11-openjdk-amd64\"\n",
        "os.environ[\"SPARK_HOME\"] = f\"/content/{spark_version}-bin-hadoop2.7\"\n",
        "\n",
        "# Start a SparkSession\n",
        "import findspark\n",
        "findspark.init()"
      ],
      "execution_count": 1,
      "outputs": [
        {
          "output_type": "stream",
          "name": "stdout",
          "text": [
            "\r0% [Working]\r            \rGet:1 https://cloud.r-project.org/bin/linux/ubuntu bionic-cran40/ InRelease [3,626 B]\n",
            "\r0% [Connecting to archive.ubuntu.com (91.189.88.142)] [Waiting for headers] [1 \r0% [Connecting to archive.ubuntu.com (91.189.88.142)] [Waiting for headers] [Co\r0% [1 InRelease gpgv 3,626 B] [Connecting to archive.ubuntu.com (91.189.88.142)\r                                                                               \rIgn:2 https://developer.download.nvidia.com/compute/cuda/repos/ubuntu1804/x86_64  InRelease\n",
            "\r0% [1 InRelease gpgv 3,626 B] [Connecting to archive.ubuntu.com (91.189.88.142)\r                                                                               \rGet:3 http://security.ubuntu.com/ubuntu bionic-security InRelease [88.7 kB]\n",
            "Ign:4 https://developer.download.nvidia.com/compute/machine-learning/repos/ubuntu1804/x86_64  InRelease\n",
            "Hit:5 https://developer.download.nvidia.com/compute/cuda/repos/ubuntu1804/x86_64  Release\n",
            "Hit:6 https://developer.download.nvidia.com/compute/machine-learning/repos/ubuntu1804/x86_64  Release\n",
            "Hit:7 http://archive.ubuntu.com/ubuntu bionic InRelease\n",
            "Get:9 http://archive.ubuntu.com/ubuntu bionic-updates InRelease [88.7 kB]\n",
            "Get:11 http://security.ubuntu.com/ubuntu bionic-security/main amd64 Packages [2,335 kB]\n",
            "Hit:12 http://ppa.launchpad.net/c2d4u.team/c2d4u4.0+/ubuntu bionic InRelease\n",
            "Get:13 http://security.ubuntu.com/ubuntu bionic-security/universe amd64 Packages [1,428 kB]\n",
            "Hit:14 http://ppa.launchpad.net/cran/libgit2/ubuntu bionic InRelease\n",
            "Get:15 http://archive.ubuntu.com/ubuntu bionic-backports InRelease [74.6 kB]\n",
            "Hit:16 http://ppa.launchpad.net/deadsnakes/ppa/ubuntu bionic InRelease\n",
            "Hit:17 http://ppa.launchpad.net/graphics-drivers/ppa/ubuntu bionic InRelease\n",
            "Fetched 4,018 kB in 5s (831 kB/s)\n",
            "Reading package lists... Done\n"
          ]
        }
      ]
    },
    {
      "cell_type": "code",
      "metadata": {
        "colab": {
          "base_uri": "https://localhost:8080/"
        },
        "id": "Jnand5D7jdWm",
        "outputId": "ad93a7f0-275c-43fc-a42c-8c462b5eaaa0"
      },
      "source": [
        "# For connection to Postgres \n",
        "!wget https://jdbc.postgresql.org/download/postgresql-42.2.9.jar"
      ],
      "execution_count": 2,
      "outputs": [
        {
          "output_type": "stream",
          "name": "stdout",
          "text": [
            "--2021-09-22 17:43:36--  https://jdbc.postgresql.org/download/postgresql-42.2.9.jar\n",
            "Resolving jdbc.postgresql.org (jdbc.postgresql.org)... 72.32.157.228, 2001:4800:3e1:1::228\n",
            "Connecting to jdbc.postgresql.org (jdbc.postgresql.org)|72.32.157.228|:443... connected.\n",
            "HTTP request sent, awaiting response... 200 OK\n",
            "Length: 914037 (893K) [application/java-archive]\n",
            "Saving to: ‘postgresql-42.2.9.jar.3’\n",
            "\n",
            "postgresql-42.2.9.j 100%[===================>] 892.61K  4.49MB/s    in 0.2s    \n",
            "\n",
            "2021-09-22 17:43:36 (4.49 MB/s) - ‘postgresql-42.2.9.jar.3’ saved [914037/914037]\n",
            "\n"
          ]
        }
      ]
    },
    {
      "cell_type": "code",
      "metadata": {
        "id": "W7M35NXDgMLy"
      },
      "source": [
        "from pyspark.sql import SparkSession\n",
        "spark = SparkSession.builder.appName(\"CloudETL\").config(\"spark.driver.extraClassPath\",\"/content/postgresql-42.2.9.jar\").getOrCreate()"
      ],
      "execution_count": 3,
      "outputs": []
    },
    {
      "cell_type": "code",
      "metadata": {
        "colab": {
          "base_uri": "https://localhost:8080/"
        },
        "id": "TdPcqqBagN1y",
        "outputId": "27205661-6511-4d28-ae6a-1b3a822ad7a8"
      },
      "source": [
        "# Read in data from S3 Buckets\n",
        "from pyspark import SparkFiles\n",
        "url=\"https://s3.amazonaws.com/amazon-reviews-pds/tsv/amazon_reviews_us_Wireless_v1_00.tsv.gz\"\n",
        "spark.sparkContext.addFile(url)\n",
        "user_data_df = spark.read.option('header', 'true').csv(SparkFiles.get(\"amazon_reviews_us_Wireless_v1_00.tsv.gz\"), sep=\"\\t\", timestampFormat=\"mm/dd/yy\", inferSchema=True)\n",
        "\n",
        "# Show DataFrame\n",
        "user_data_df.show(truncate=False)"
      ],
      "execution_count": 4,
      "outputs": [
        {
          "output_type": "stream",
          "name": "stdout",
          "text": [
            "+-----------+-----------+--------------+----------+--------------+---------------------------------------------------------------------------------------------------------------------------------------------------------------------------------------------------------------------------------------------------------------------------------------------------------------------------------------------------------------------------------------------------------------+----------------+-----------+-------------+-----------+----+-----------------+-------------------------------------------------------+-----------------------------------------------------------------------------------------------------------------------------------------------------------------------------------------------------------------------------------------------------------------------------------------------------------------------------------------------------------------------------------------------------------------------------------------------------------------------------------------------------------------------------------------------------------------------------------------------------------------------------------------------------------------------------------------------------------------------------------------------------------------------------------------------------------------------------------------------------------------------------------------------------------------------------------------------------------------------------------------------------------------------------------------------------------------------------------------------------------------------------------------------------------------------------------------------------------------------------------------------------------------------------------------------------------------------------------------------------------------------------------------------------------------------------------------------------------------------------------------------------------------------------------------------------------------------------------------------------------------------------------------------------------------------------------------------------------------------------------------------------------------------------------------------------------------------------+-----------+\n",
            "|marketplace|customer_id|review_id     |product_id|product_parent|product_title                                                                                                                                                                                                                                                                                                                                                                                                  |product_category|star_rating|helpful_votes|total_votes|vine|verified_purchase|review_headline                                        |review_body                                                                                                                                                                                                                                                                                                                                                                                                                                                                                                                                                                                                                                                                                                                                                                                                                                                                                                                                                                                                                                                                                                                                                                                                                                                                                                                                                                                                                                                                                                                                                                                                                                                                                                                                                                                                                  |review_date|\n",
            "+-----------+-----------+--------------+----------+--------------+---------------------------------------------------------------------------------------------------------------------------------------------------------------------------------------------------------------------------------------------------------------------------------------------------------------------------------------------------------------------------------------------------------------+----------------+-----------+-------------+-----------+----+-----------------+-------------------------------------------------------+-----------------------------------------------------------------------------------------------------------------------------------------------------------------------------------------------------------------------------------------------------------------------------------------------------------------------------------------------------------------------------------------------------------------------------------------------------------------------------------------------------------------------------------------------------------------------------------------------------------------------------------------------------------------------------------------------------------------------------------------------------------------------------------------------------------------------------------------------------------------------------------------------------------------------------------------------------------------------------------------------------------------------------------------------------------------------------------------------------------------------------------------------------------------------------------------------------------------------------------------------------------------------------------------------------------------------------------------------------------------------------------------------------------------------------------------------------------------------------------------------------------------------------------------------------------------------------------------------------------------------------------------------------------------------------------------------------------------------------------------------------------------------------------------------------------------------------+-----------+\n",
            "|US         |16414143   |R3W4P9UBGNGH1U|B00YL0EKWE|852431543     |LG G4 Case Hard Transparent Slim Clear Cover for LG G4                                                                                                                                                                                                                                                                                                                                                         |Wireless        |2          |1            |3          |N   |Y                |Looks good, functions meh                              |2 issues  -  Once I turned on the circle apps and installed this case,  my battery drained twice as fast as usual.  I ended up turning off the circle apps, which kind of makes the case just a case...  with a hole in it.  Second,  the wireless charging doesn't work.  I have a Motorola 360 watch and a Qi charging pad. The watch charges fine but this case doesn't. But hey, it looks nice.                                                                                                                                                                                                                                                                                                                                                                                                                                                                                                                                                                                                                                                                                                                                                                                                                                                                                                                                                                                                                                                                                                                                                                                                                                                                                                                                                                                                                          |2015-08-31 |\n",
            "|US         |50800750   |R15V54KBMTQWAY|B00XK95RPQ|516894650     |Selfie Stick Fiblastiq&trade; Extendable Wireless Bluetooth Selfie Stick with built-in Bluetooth Adjustable Phone Holder                                                                                                                                                                                                                                                                                       |Wireless        |4          |0            |0          |N   |N                |A fun little gadget                                    |I’m embarrassed to admit that until recently, I have had a very negative opinion about “selfie sticks” aka “monopods” aka “narcissticks.” But having reviewed a number of them recently, they’re growing on me. This one is pretty nice and simple to set up and with easy instructions illustrated on the back of the box (not sure why some reviewers have stated that there are no instructions when they are clearly printed on the box unless they received different packaging than I did). Once assembled, the pairing via bluetooth and use of the stick are easy and intuitive. Nothing to it.<br /><br />The stick comes with a USB charging cable but arrived with a charge so you can use it immediately, though it’s probably a good idea to charge it right away so that you have no interruption of use out of the box. Make sure the stick is switched to on (it will light up) and extend your stick to the length you desire up to about a yard’s length and snap away.<br /><br />The phone clamp held the phone sturdily so I wasn’t worried about it slipping out. But the longer you extend the stick, the harder it is to maneuver.  But that will happen with any stick and is not specific to this one in particular.<br /><br />Two things that could improve this: 1) add the option to clamp this in portrait orientation instead of having to try and hold the stick at the portrait angle, which makes it feel unstable; 2) add the opening for a tripod so that this can be used to sit upright on a table for skyping and facetime eliminating the need to hold the phone up with your hand, causing fatigue.<br /><br />But other than that, this is a nice quality monopod for a variety of picture taking opportunities.<br /><br />I received a sample in exchange for my honest opinion.|2015-08-31 |\n",
            "|US         |15184378   |RY8I449HNXSVF |B00SXRXUKO|984297154     |Tribe AB40 Water Resistant Sports Armband with Key Holder for 4.7-Inch iPhone 6S/6/5/5S/5C, Galaxy S4 + Screen Protector - Dark Pink                                                                                                                                                                                                                                                                           |Wireless        |5          |0            |0          |N   |Y                |Five Stars                                             |Fits iPhone 6 well                                                                                                                                                                                                                                                                                                                                                                                                                                                                                                                                                                                                                                                                                                                                                                                                                                                                                                                                                                                                                                                                                                                                                                                                                                                                                                                                                                                                                                                                                                                                                                                                                                                                                                                                                                                                           |2015-08-31 |\n",
            "|US         |10203548   |R18TLJYCKJFLSR|B009V5X1CE|279912704     |RAVPower® Element 10400mAh External Battery USB Portable Charger (Dual USB Outputs, Ultra Compact Design), Travel Charger for iPhone 6,iPhone 6 plus,iPhone 5, 5S, 5C, 4S, 4, iPad Air, 4, 3, 2, Mini 2 (Apple adapters not included); Samsung Galaxy S5, S4, S3, S2, Note 3, Note 2; HTC One, EVO, Thunderbolt, Incredible, Droid DNA, Motorola ATRIX, Droid, Moto X, Google Glass, Nexus 4, Nexus 5, Nexus 7,|Wireless        |5          |0            |0          |N   |Y                |Great charger                                          |Great charger.  I easily get 3+ charges on a Samsung Galaxy 3.  Works perfectly for camping trips or long days on the boat.                                                                                                                                                                                                                                                                                                                                                                                                                                                                                                                                                                                                                                                                                                                                                                                                                                                                                                                                                                                                                                                                                                                                                                                                                                                                                                                                                                                                                                                                                                                                                                                                                                                                                                  |2015-08-31 |\n",
            "|US         |488280     |R1NK26SWS53B8Q|B00D93OVF0|662791300     |Fosmon Micro USB Value Pack Bundle for Samsung Galaxy Exhilarate - Includes Home / Travel Charger, Car / Vehicle Charger and USB Cable                                                                                                                                                                                                                                                                         |Wireless        |5          |0            |0          |N   |Y                |Five Stars                                             |Great for the price :-)                                                                                                                                                                                                                                                                                                                                                                                                                                                                                                                                                                                                                                                                                                                                                                                                                                                                                                                                                                                                                                                                                                                                                                                                                                                                                                                                                                                                                                                                                                                                                                                                                                                                                                                                                                                                      |2015-08-31 |\n",
            "|US         |13334021   |R11LOHEDYJALTN|B00XVGJMDQ|421688488     |iPhone 6 Case, Vofolen Impact Resistant Protective Shell iPhone 6S Wallet Cover Shockproof Rubber Bumper Case Anti-scratches Hard Cover Skin Card Slot Holder for iPhone 6 6S                                                                                                                                                                                                                                  |Wireless        |5          |0            |0          |N   |Y                |Five Stars                                             |Great Case, better customer service!                                                                                                                                                                                                                                                                                                                                                                                                                                                                                                                                                                                                                                                                                                                                                                                                                                                                                                                                                                                                                                                                                                                                                                                                                                                                                                                                                                                                                                                                                                                                                                                                                                                                                                                                                                                         |2015-08-31 |\n",
            "|US         |27520697   |R3ALQVQB2P9LA7|B00KQW1X1C|554285554     |Nokia Lumia 630 RM-978 White Factory Unlocked - International Version No Warranty                                                                                                                                                                                                                                                                                                                              |Wireless        |4          |0            |0          |N   |Y                |Four Stars                                             |Easy to set up and use. Great functions for the price                                                                                                                                                                                                                                                                                                                                                                                                                                                                                                                                                                                                                                                                                                                                                                                                                                                                                                                                                                                                                                                                                                                                                                                                                                                                                                                                                                                                                                                                                                                                                                                                                                                                                                                                                                        |2015-08-31 |\n",
            "|US         |48086021   |R3MWLXLNO21PDQ|B00IP1MQNK|488006702     |Lumsing 10400mah external battery                                                                                                                                                                                                                                                                                                                                                                              |Wireless        |5          |0            |0          |N   |Y                |Five Stars                                             |Works great                                                                                                                                                                                                                                                                                                                                                                                                                                                                                                                                                                                                                                                                                                                                                                                                                                                                                                                                                                                                                                                                                                                                                                                                                                                                                                                                                                                                                                                                                                                                                                                                                                                                                                                                                                                                                  |2015-08-31 |\n",
            "|US         |12738196   |R2L15IS24CX0LI|B00HVORET8|389677711     |iPhone 5S Battery Case - iPhone 5 Battery Case , Maxboost Atomic S [MFI Certified] External Protective Battery Charging Case Power Bank Charger All Versions of Apple iPhone 5/5S [Juice Battery Pack]                                                                                                                                                                                                         |Wireless        |5          |0            |0          |N   |Y                |So far so good                                         |So far so good. It is essentially identical to the one it replaced from another company. That one stopped working after 7 months so I am a bit apprehensive about this one.                                                                                                                                                                                                                                                                                                                                                                                                                                                                                                                                                                                                                                                                                                                                                                                                                                                                                                                                                                                                                                                                                                                                                                                                                                                                                                                                                                                                                                                                                                                                                                                                                                                  |2015-08-31 |\n",
            "|US         |15867807   |R1DJ8976WPWVZU|B00HX3G6J6|299654876     |HTC One M8 Screen Protector, Skinomi TechSkin Full Coverage Screen Protector for HTC One M8 Clear HD Anti-Bubble Film                                                                                                                                                                                                                                                                                          |Wireless        |3          |0            |0          |N   |Y                |seems durable but these are always harder to get on ...|seems durable but these are always harder to get on right than people make them out to be. also send to curl up at the edges after a while. with today's smartphones, you hardly need screen protectors anyway.                                                                                                                                                                                                                                                                                                                                                                                                                                                                                                                                                                                                                                                                                                                                                                                                                                                                                                                                                                                                                                                                                                                                                                                                                                                                                                                                                                                                                                                                                                                                                                                                              |2015-08-31 |\n",
            "|US         |1972249    |R3MRWNNR8CBTB7|B00U4NATNQ|577878727     |S6 Case - Bear Motion for Galaxy S6 - Premium Back Cover for Samsung Galaxy S6 - Sand (Black)                                                                                                                                                                                                                                                                                                                  |Wireless        |5          |0            |0          |N   |Y                |Super thin, lightweight                                |Super thin, lightweight, and non intrusive. Feels amazing, isn't add protective as other cases but I get to enjoy and show off my phone more.                                                                                                                                                                                                                                                                                                                                                                                                                                                                                                                                                                                                                                                                                                                                                                                                                                                                                                                                                                                                                                                                                                                                                                                                                                                                                                                                                                                                                                                                                                                                                                                                                                                                                |2015-08-31 |\n",
            "|US         |10956619   |R1DS6DKTUXAQK3|B00SZEFDH8|654620704     |BLU Studio X, Unlocked Cell Phone                                                                                                                                                                                                                                                                                                                                                                              |Wireless        |5          |0            |0          |N   |Y                |Five Stars                                             |As good as the Samsung Galaxies, in my opinion.                                                                                                                                                                                                                                                                                                                                                                                                                                                                                                                                                                                                                                                                                                                                                                                                                                                                                                                                                                                                                                                                                                                                                                                                                                                                                                                                                                                                                                                                                                                                                                                                                                                                                                                                                                              |2015-08-31 |\n",
            "|US         |14805911   |RWJM5E0TWUJD2 |B00JRJUL9U|391166958     |EZOPower 5-Port Usb Car Charger with 3-Feet Extension Cord, 8-Amp, 40-Watts, Black                                                                                                                                                                                                                                                                                                                             |Wireless        |5          |0            |0          |N   |Y                |EZOPower                                               |I received this on time and its great. I went on a long trip and used it. I have an iPhone 4 s a BLU Android phone and my husband has a small flip phone, it worked great on all of them and I also had a blue tooth I charged on it.                                                                                                                                                                                                                                                                                                                                                                                                                                                                                                                                                                                                                                                                                                                                                                                                                                                                                                                                                                                                                                                                                                                                                                                                                                                                                                                                                                                                                                                                                                                                                                                        |2015-08-31 |\n",
            "|US         |15611116   |R1XTJKDYNCRGAC|B00KQ4T0HE|481551630     |iPhone 6S Case &iPhone 6 Case Perfect designed 3D Phone cover for i6/6s Cute bulldog Colourful case for iphone6/6s-PC case                                                                                                                                                                                                                                                                                     |Wireless        |1          |0            |0          |N   |Y                |Very cheap case. This not protect anything. Very ...   |Very cheap case. This not protect anything. Very fragil.!! After i got it I went to buy a otter case expensive but worth it.                                                                                                                                                                                                                                                                                                                                                                                                                                                                                                                                                                                                                                                                                                                                                                                                                                                                                                                                                                                                                                                                                                                                                                                                                                                                                                                                                                                                                                                                                                                                                                                                                                                                                                 |2015-08-31 |\n",
            "|US         |39298603   |R2UZL3DPWEU1XW|B00M0YWKPM|685107474     |iPhone 6s Plus Case                                                                                                                                                                                                                                                                                                                                                                                            |Wireless        |5          |0            |0          |N   |Y                |Five Stars                                             |son loves it.                                                                                                                                                                                                                                                                                                                                                                                                                                                                                                                                                                                                                                                                                                                                                                                                                                                                                                                                                                                                                                                                                                                                                                                                                                                                                                                                                                                                                                                                                                                                                                                                                                                                                                                                                                                                                |2015-08-31 |\n",
            "|US         |17552454   |R2EZXET9KBFFU3|B00KDZEE68|148320945     |zBoost ZB575-A TRIO SOHO Tri Band AT&T 4G Cell Phone Signal Booster, up to 2,500 sq. ft.                                                                                                                                                                                                                                                                                                                       |Wireless        |1          |0            |0          |N   |Y                |One Star                                               |you have to turn power off to this unit once or twice a day to keep it working                                                                                                                                                                                                                                                                                                                                                                                                                                                                                                                                                                                                                                                                                                                                                                                                                                                                                                                                                                                                                                                                                                                                                                                                                                                                                                                                                                                                                                                                                                                                                                                                                                                                                                                                               |2015-08-31 |\n",
            "|US         |12218556   |R26VY1L1FD3LPU|B00BJN45GM|47788188      |OtterBox Defender Series Case for HTC One                                                                                                                                                                                                                                                                                                                                                                      |Wireless        |5          |0            |0          |N   |Y                |Five Stars                                             |Awesome, thank you                                                                                                                                                                                                                                                                                                                                                                                                                                                                                                                                                                                                                                                                                                                                                                                                                                                                                                                                                                                                                                                                                                                                                                                                                                                                                                                                                                                                                                                                                                                                                                                                                                                                                                                                                                                                           |2015-08-31 |\n",
            "|US         |21872923   |R2SSA4NSFCV18T|B00SA86SXW|748759272     |Aduro PowerUP 30W 4-Port (6A Total) PWC-4U Charging Station / USB Travel Wall Charger / USB Desktop Charger for iPhone, iPad, Samsung Galaxy, Nexus, HTC, Motorola, LG and More                                                                                                                                                                                                                                |Wireless        |5          |0            |0          |N   |N                |Five Stars                                             |nice, smart                                                                                                                                                                                                                                                                                                                                                                                                                                                                                                                                                                                                                                                                                                                                                                                                                                                                                                                                                                                                                                                                                                                                                                                                                                                                                                                                                                                                                                                                                                                                                                                                                                                                                                                                                                                                                  |2015-08-31 |\n",
            "|US         |16264332   |R1G6333JHJNEUQ|B00Q3I68TU|974085141     |LilGadgets Connect+ Premium Volume Limited Wired Headphones with SharePort for Children / Kids                                                                                                                                                                                                                                                                                                                 |Wireless        |5          |0            |0          |N   |Y                |Great headphones for kids                              |We love these headphones. We had a pair each for our 2 and 4 year old. They loved them and thought it was great that they could share one device but each have their own set of headphones. Very comfortable as well.                                                                                                                                                                                                                                                                                                                                                                                                                                                                                                                                                                                                                                                                                                                                                                                                                                                                                                                                                                                                                                                                                                                                                                                                                                                                                                                                                                                                                                                                                                                                                                                                        |2015-08-31 |\n",
            "|US         |6042304    |R2DRG0UZXJQ0PE|B00TN4J1TA|716174627     |Anker Aluminum Multi-Angle Universal Phone and Tablet Stand for iPhone, iPad, Samsung Galaxy, HTC, Nexus and More (Silver)                                                                                                                                                                                                                                                                                     |Wireless        |5          |0            |0          |N   |Y                |Five Stars                                             |This is well worth the money.                                                                                                                                                                                                                                                                                                                                                                                                                                                                                                                                                                                                                                                                                                                                                                                                                                                                                                                                                                                                                                                                                                                                                                                                                                                                                                                                                                                                                                                                                                                                                                                                                                                                                                                                                                                                |2015-08-31 |\n",
            "+-----------+-----------+--------------+----------+--------------+---------------------------------------------------------------------------------------------------------------------------------------------------------------------------------------------------------------------------------------------------------------------------------------------------------------------------------------------------------------------------------------------------------------+----------------+-----------+-------------+-----------+----+-----------------+-------------------------------------------------------+-----------------------------------------------------------------------------------------------------------------------------------------------------------------------------------------------------------------------------------------------------------------------------------------------------------------------------------------------------------------------------------------------------------------------------------------------------------------------------------------------------------------------------------------------------------------------------------------------------------------------------------------------------------------------------------------------------------------------------------------------------------------------------------------------------------------------------------------------------------------------------------------------------------------------------------------------------------------------------------------------------------------------------------------------------------------------------------------------------------------------------------------------------------------------------------------------------------------------------------------------------------------------------------------------------------------------------------------------------------------------------------------------------------------------------------------------------------------------------------------------------------------------------------------------------------------------------------------------------------------------------------------------------------------------------------------------------------------------------------------------------------------------------------------------------------------------------+-----------+\n",
            "only showing top 20 rows\n",
            "\n"
          ]
        }
      ]
    },
    {
      "cell_type": "code",
      "metadata": {
        "colab": {
          "base_uri": "https://localhost:8080/"
        },
        "id": "0u4gssGpaKv0",
        "outputId": "3469ae3c-d3fe-41d1-ab7a-6de80e7704f8"
      },
      "source": [
        "user_data_df.dtypes"
      ],
      "execution_count": 5,
      "outputs": [
        {
          "output_type": "execute_result",
          "data": {
            "text/plain": [
              "[('marketplace', 'string'),\n",
              " ('customer_id', 'int'),\n",
              " ('review_id', 'string'),\n",
              " ('product_id', 'string'),\n",
              " ('product_parent', 'int'),\n",
              " ('product_title', 'string'),\n",
              " ('product_category', 'string'),\n",
              " ('star_rating', 'string'),\n",
              " ('helpful_votes', 'int'),\n",
              " ('total_votes', 'int'),\n",
              " ('vine', 'string'),\n",
              " ('verified_purchase', 'string'),\n",
              " ('review_headline', 'string'),\n",
              " ('review_body', 'string'),\n",
              " ('review_date', 'string')]"
            ]
          },
          "metadata": {},
          "execution_count": 5
        }
      ]
    },
    {
      "cell_type": "markdown",
      "metadata": {
        "id": "h80Z0a0XZDlF"
      },
      "source": [
        ""
      ]
    },
    {
      "cell_type": "code",
      "metadata": {
        "id": "1LFMNIDNMIwu",
        "colab": {
          "base_uri": "https://localhost:8080/"
        },
        "outputId": "dfe816fb-aa5c-4947-930a-3fd158b7e9d3"
      },
      "source": [
        "user_data_df.printSchema"
      ],
      "execution_count": 6,
      "outputs": [
        {
          "output_type": "execute_result",
          "data": {
            "text/plain": [
              "<bound method DataFrame.printSchema of DataFrame[marketplace: string, customer_id: int, review_id: string, product_id: string, product_parent: int, product_title: string, product_category: string, star_rating: string, helpful_votes: int, total_votes: int, vine: string, verified_purchase: string, review_headline: string, review_body: string, review_date: string]>"
            ]
          },
          "metadata": {},
          "execution_count": 6
        }
      ]
    },
    {
      "cell_type": "code",
      "metadata": {
        "colab": {
          "base_uri": "https://localhost:8080/"
        },
        "id": "IxzmPTnwMwOq",
        "outputId": "6f163971-2154-49ca-e123-4364b1c04254"
      },
      "source": [
        "dropna_df = user_data_df.na.drop(how=\"any\")\n",
        "dropna_df.show(truncate=False)"
      ],
      "execution_count": 7,
      "outputs": [
        {
          "output_type": "stream",
          "name": "stdout",
          "text": [
            "+-----------+-----------+--------------+----------+--------------+---------------------------------------------------------------------------------------------------------------------------------------------------------------------------------------------------------------------------------------------------------------------------------------------------------------------------------------------------------------------------------------------------------------+----------------+-----------+-------------+-----------+----+-----------------+-------------------------------------------------------+-----------------------------------------------------------------------------------------------------------------------------------------------------------------------------------------------------------------------------------------------------------------------------------------------------------------------------------------------------------------------------------------------------------------------------------------------------------------------------------------------------------------------------------------------------------------------------------------------------------------------------------------------------------------------------------------------------------------------------------------------------------------------------------------------------------------------------------------------------------------------------------------------------------------------------------------------------------------------------------------------------------------------------------------------------------------------------------------------------------------------------------------------------------------------------------------------------------------------------------------------------------------------------------------------------------------------------------------------------------------------------------------------------------------------------------------------------------------------------------------------------------------------------------------------------------------------------------------------------------------------------------------------------------------------------------------------------------------------------------------------------------------------------------------------------------------------------+-----------+\n",
            "|marketplace|customer_id|review_id     |product_id|product_parent|product_title                                                                                                                                                                                                                                                                                                                                                                                                  |product_category|star_rating|helpful_votes|total_votes|vine|verified_purchase|review_headline                                        |review_body                                                                                                                                                                                                                                                                                                                                                                                                                                                                                                                                                                                                                                                                                                                                                                                                                                                                                                                                                                                                                                                                                                                                                                                                                                                                                                                                                                                                                                                                                                                                                                                                                                                                                                                                                                                                                  |review_date|\n",
            "+-----------+-----------+--------------+----------+--------------+---------------------------------------------------------------------------------------------------------------------------------------------------------------------------------------------------------------------------------------------------------------------------------------------------------------------------------------------------------------------------------------------------------------+----------------+-----------+-------------+-----------+----+-----------------+-------------------------------------------------------+-----------------------------------------------------------------------------------------------------------------------------------------------------------------------------------------------------------------------------------------------------------------------------------------------------------------------------------------------------------------------------------------------------------------------------------------------------------------------------------------------------------------------------------------------------------------------------------------------------------------------------------------------------------------------------------------------------------------------------------------------------------------------------------------------------------------------------------------------------------------------------------------------------------------------------------------------------------------------------------------------------------------------------------------------------------------------------------------------------------------------------------------------------------------------------------------------------------------------------------------------------------------------------------------------------------------------------------------------------------------------------------------------------------------------------------------------------------------------------------------------------------------------------------------------------------------------------------------------------------------------------------------------------------------------------------------------------------------------------------------------------------------------------------------------------------------------------+-----------+\n",
            "|US         |16414143   |R3W4P9UBGNGH1U|B00YL0EKWE|852431543     |LG G4 Case Hard Transparent Slim Clear Cover for LG G4                                                                                                                                                                                                                                                                                                                                                         |Wireless        |2          |1            |3          |N   |Y                |Looks good, functions meh                              |2 issues  -  Once I turned on the circle apps and installed this case,  my battery drained twice as fast as usual.  I ended up turning off the circle apps, which kind of makes the case just a case...  with a hole in it.  Second,  the wireless charging doesn't work.  I have a Motorola 360 watch and a Qi charging pad. The watch charges fine but this case doesn't. But hey, it looks nice.                                                                                                                                                                                                                                                                                                                                                                                                                                                                                                                                                                                                                                                                                                                                                                                                                                                                                                                                                                                                                                                                                                                                                                                                                                                                                                                                                                                                                          |2015-08-31 |\n",
            "|US         |50800750   |R15V54KBMTQWAY|B00XK95RPQ|516894650     |Selfie Stick Fiblastiq&trade; Extendable Wireless Bluetooth Selfie Stick with built-in Bluetooth Adjustable Phone Holder                                                                                                                                                                                                                                                                                       |Wireless        |4          |0            |0          |N   |N                |A fun little gadget                                    |I’m embarrassed to admit that until recently, I have had a very negative opinion about “selfie sticks” aka “monopods” aka “narcissticks.” But having reviewed a number of them recently, they’re growing on me. This one is pretty nice and simple to set up and with easy instructions illustrated on the back of the box (not sure why some reviewers have stated that there are no instructions when they are clearly printed on the box unless they received different packaging than I did). Once assembled, the pairing via bluetooth and use of the stick are easy and intuitive. Nothing to it.<br /><br />The stick comes with a USB charging cable but arrived with a charge so you can use it immediately, though it’s probably a good idea to charge it right away so that you have no interruption of use out of the box. Make sure the stick is switched to on (it will light up) and extend your stick to the length you desire up to about a yard’s length and snap away.<br /><br />The phone clamp held the phone sturdily so I wasn’t worried about it slipping out. But the longer you extend the stick, the harder it is to maneuver.  But that will happen with any stick and is not specific to this one in particular.<br /><br />Two things that could improve this: 1) add the option to clamp this in portrait orientation instead of having to try and hold the stick at the portrait angle, which makes it feel unstable; 2) add the opening for a tripod so that this can be used to sit upright on a table for skyping and facetime eliminating the need to hold the phone up with your hand, causing fatigue.<br /><br />But other than that, this is a nice quality monopod for a variety of picture taking opportunities.<br /><br />I received a sample in exchange for my honest opinion.|2015-08-31 |\n",
            "|US         |15184378   |RY8I449HNXSVF |B00SXRXUKO|984297154     |Tribe AB40 Water Resistant Sports Armband with Key Holder for 4.7-Inch iPhone 6S/6/5/5S/5C, Galaxy S4 + Screen Protector - Dark Pink                                                                                                                                                                                                                                                                           |Wireless        |5          |0            |0          |N   |Y                |Five Stars                                             |Fits iPhone 6 well                                                                                                                                                                                                                                                                                                                                                                                                                                                                                                                                                                                                                                                                                                                                                                                                                                                                                                                                                                                                                                                                                                                                                                                                                                                                                                                                                                                                                                                                                                                                                                                                                                                                                                                                                                                                           |2015-08-31 |\n",
            "|US         |10203548   |R18TLJYCKJFLSR|B009V5X1CE|279912704     |RAVPower® Element 10400mAh External Battery USB Portable Charger (Dual USB Outputs, Ultra Compact Design), Travel Charger for iPhone 6,iPhone 6 plus,iPhone 5, 5S, 5C, 4S, 4, iPad Air, 4, 3, 2, Mini 2 (Apple adapters not included); Samsung Galaxy S5, S4, S3, S2, Note 3, Note 2; HTC One, EVO, Thunderbolt, Incredible, Droid DNA, Motorola ATRIX, Droid, Moto X, Google Glass, Nexus 4, Nexus 5, Nexus 7,|Wireless        |5          |0            |0          |N   |Y                |Great charger                                          |Great charger.  I easily get 3+ charges on a Samsung Galaxy 3.  Works perfectly for camping trips or long days on the boat.                                                                                                                                                                                                                                                                                                                                                                                                                                                                                                                                                                                                                                                                                                                                                                                                                                                                                                                                                                                                                                                                                                                                                                                                                                                                                                                                                                                                                                                                                                                                                                                                                                                                                                  |2015-08-31 |\n",
            "|US         |488280     |R1NK26SWS53B8Q|B00D93OVF0|662791300     |Fosmon Micro USB Value Pack Bundle for Samsung Galaxy Exhilarate - Includes Home / Travel Charger, Car / Vehicle Charger and USB Cable                                                                                                                                                                                                                                                                         |Wireless        |5          |0            |0          |N   |Y                |Five Stars                                             |Great for the price :-)                                                                                                                                                                                                                                                                                                                                                                                                                                                                                                                                                                                                                                                                                                                                                                                                                                                                                                                                                                                                                                                                                                                                                                                                                                                                                                                                                                                                                                                                                                                                                                                                                                                                                                                                                                                                      |2015-08-31 |\n",
            "|US         |13334021   |R11LOHEDYJALTN|B00XVGJMDQ|421688488     |iPhone 6 Case, Vofolen Impact Resistant Protective Shell iPhone 6S Wallet Cover Shockproof Rubber Bumper Case Anti-scratches Hard Cover Skin Card Slot Holder for iPhone 6 6S                                                                                                                                                                                                                                  |Wireless        |5          |0            |0          |N   |Y                |Five Stars                                             |Great Case, better customer service!                                                                                                                                                                                                                                                                                                                                                                                                                                                                                                                                                                                                                                                                                                                                                                                                                                                                                                                                                                                                                                                                                                                                                                                                                                                                                                                                                                                                                                                                                                                                                                                                                                                                                                                                                                                         |2015-08-31 |\n",
            "|US         |27520697   |R3ALQVQB2P9LA7|B00KQW1X1C|554285554     |Nokia Lumia 630 RM-978 White Factory Unlocked - International Version No Warranty                                                                                                                                                                                                                                                                                                                              |Wireless        |4          |0            |0          |N   |Y                |Four Stars                                             |Easy to set up and use. Great functions for the price                                                                                                                                                                                                                                                                                                                                                                                                                                                                                                                                                                                                                                                                                                                                                                                                                                                                                                                                                                                                                                                                                                                                                                                                                                                                                                                                                                                                                                                                                                                                                                                                                                                                                                                                                                        |2015-08-31 |\n",
            "|US         |48086021   |R3MWLXLNO21PDQ|B00IP1MQNK|488006702     |Lumsing 10400mah external battery                                                                                                                                                                                                                                                                                                                                                                              |Wireless        |5          |0            |0          |N   |Y                |Five Stars                                             |Works great                                                                                                                                                                                                                                                                                                                                                                                                                                                                                                                                                                                                                                                                                                                                                                                                                                                                                                                                                                                                                                                                                                                                                                                                                                                                                                                                                                                                                                                                                                                                                                                                                                                                                                                                                                                                                  |2015-08-31 |\n",
            "|US         |12738196   |R2L15IS24CX0LI|B00HVORET8|389677711     |iPhone 5S Battery Case - iPhone 5 Battery Case , Maxboost Atomic S [MFI Certified] External Protective Battery Charging Case Power Bank Charger All Versions of Apple iPhone 5/5S [Juice Battery Pack]                                                                                                                                                                                                         |Wireless        |5          |0            |0          |N   |Y                |So far so good                                         |So far so good. It is essentially identical to the one it replaced from another company. That one stopped working after 7 months so I am a bit apprehensive about this one.                                                                                                                                                                                                                                                                                                                                                                                                                                                                                                                                                                                                                                                                                                                                                                                                                                                                                                                                                                                                                                                                                                                                                                                                                                                                                                                                                                                                                                                                                                                                                                                                                                                  |2015-08-31 |\n",
            "|US         |15867807   |R1DJ8976WPWVZU|B00HX3G6J6|299654876     |HTC One M8 Screen Protector, Skinomi TechSkin Full Coverage Screen Protector for HTC One M8 Clear HD Anti-Bubble Film                                                                                                                                                                                                                                                                                          |Wireless        |3          |0            |0          |N   |Y                |seems durable but these are always harder to get on ...|seems durable but these are always harder to get on right than people make them out to be. also send to curl up at the edges after a while. with today's smartphones, you hardly need screen protectors anyway.                                                                                                                                                                                                                                                                                                                                                                                                                                                                                                                                                                                                                                                                                                                                                                                                                                                                                                                                                                                                                                                                                                                                                                                                                                                                                                                                                                                                                                                                                                                                                                                                              |2015-08-31 |\n",
            "|US         |1972249    |R3MRWNNR8CBTB7|B00U4NATNQ|577878727     |S6 Case - Bear Motion for Galaxy S6 - Premium Back Cover for Samsung Galaxy S6 - Sand (Black)                                                                                                                                                                                                                                                                                                                  |Wireless        |5          |0            |0          |N   |Y                |Super thin, lightweight                                |Super thin, lightweight, and non intrusive. Feels amazing, isn't add protective as other cases but I get to enjoy and show off my phone more.                                                                                                                                                                                                                                                                                                                                                                                                                                                                                                                                                                                                                                                                                                                                                                                                                                                                                                                                                                                                                                                                                                                                                                                                                                                                                                                                                                                                                                                                                                                                                                                                                                                                                |2015-08-31 |\n",
            "|US         |10956619   |R1DS6DKTUXAQK3|B00SZEFDH8|654620704     |BLU Studio X, Unlocked Cell Phone                                                                                                                                                                                                                                                                                                                                                                              |Wireless        |5          |0            |0          |N   |Y                |Five Stars                                             |As good as the Samsung Galaxies, in my opinion.                                                                                                                                                                                                                                                                                                                                                                                                                                                                                                                                                                                                                                                                                                                                                                                                                                                                                                                                                                                                                                                                                                                                                                                                                                                                                                                                                                                                                                                                                                                                                                                                                                                                                                                                                                              |2015-08-31 |\n",
            "|US         |14805911   |RWJM5E0TWUJD2 |B00JRJUL9U|391166958     |EZOPower 5-Port Usb Car Charger with 3-Feet Extension Cord, 8-Amp, 40-Watts, Black                                                                                                                                                                                                                                                                                                                             |Wireless        |5          |0            |0          |N   |Y                |EZOPower                                               |I received this on time and its great. I went on a long trip and used it. I have an iPhone 4 s a BLU Android phone and my husband has a small flip phone, it worked great on all of them and I also had a blue tooth I charged on it.                                                                                                                                                                                                                                                                                                                                                                                                                                                                                                                                                                                                                                                                                                                                                                                                                                                                                                                                                                                                                                                                                                                                                                                                                                                                                                                                                                                                                                                                                                                                                                                        |2015-08-31 |\n",
            "|US         |15611116   |R1XTJKDYNCRGAC|B00KQ4T0HE|481551630     |iPhone 6S Case &iPhone 6 Case Perfect designed 3D Phone cover for i6/6s Cute bulldog Colourful case for iphone6/6s-PC case                                                                                                                                                                                                                                                                                     |Wireless        |1          |0            |0          |N   |Y                |Very cheap case. This not protect anything. Very ...   |Very cheap case. This not protect anything. Very fragil.!! After i got it I went to buy a otter case expensive but worth it.                                                                                                                                                                                                                                                                                                                                                                                                                                                                                                                                                                                                                                                                                                                                                                                                                                                                                                                                                                                                                                                                                                                                                                                                                                                                                                                                                                                                                                                                                                                                                                                                                                                                                                 |2015-08-31 |\n",
            "|US         |39298603   |R2UZL3DPWEU1XW|B00M0YWKPM|685107474     |iPhone 6s Plus Case                                                                                                                                                                                                                                                                                                                                                                                            |Wireless        |5          |0            |0          |N   |Y                |Five Stars                                             |son loves it.                                                                                                                                                                                                                                                                                                                                                                                                                                                                                                                                                                                                                                                                                                                                                                                                                                                                                                                                                                                                                                                                                                                                                                                                                                                                                                                                                                                                                                                                                                                                                                                                                                                                                                                                                                                                                |2015-08-31 |\n",
            "|US         |17552454   |R2EZXET9KBFFU3|B00KDZEE68|148320945     |zBoost ZB575-A TRIO SOHO Tri Band AT&T 4G Cell Phone Signal Booster, up to 2,500 sq. ft.                                                                                                                                                                                                                                                                                                                       |Wireless        |1          |0            |0          |N   |Y                |One Star                                               |you have to turn power off to this unit once or twice a day to keep it working                                                                                                                                                                                                                                                                                                                                                                                                                                                                                                                                                                                                                                                                                                                                                                                                                                                                                                                                                                                                                                                                                                                                                                                                                                                                                                                                                                                                                                                                                                                                                                                                                                                                                                                                               |2015-08-31 |\n",
            "|US         |12218556   |R26VY1L1FD3LPU|B00BJN45GM|47788188      |OtterBox Defender Series Case for HTC One                                                                                                                                                                                                                                                                                                                                                                      |Wireless        |5          |0            |0          |N   |Y                |Five Stars                                             |Awesome, thank you                                                                                                                                                                                                                                                                                                                                                                                                                                                                                                                                                                                                                                                                                                                                                                                                                                                                                                                                                                                                                                                                                                                                                                                                                                                                                                                                                                                                                                                                                                                                                                                                                                                                                                                                                                                                           |2015-08-31 |\n",
            "|US         |21872923   |R2SSA4NSFCV18T|B00SA86SXW|748759272     |Aduro PowerUP 30W 4-Port (6A Total) PWC-4U Charging Station / USB Travel Wall Charger / USB Desktop Charger for iPhone, iPad, Samsung Galaxy, Nexus, HTC, Motorola, LG and More                                                                                                                                                                                                                                |Wireless        |5          |0            |0          |N   |N                |Five Stars                                             |nice, smart                                                                                                                                                                                                                                                                                                                                                                                                                                                                                                                                                                                                                                                                                                                                                                                                                                                                                                                                                                                                                                                                                                                                                                                                                                                                                                                                                                                                                                                                                                                                                                                                                                                                                                                                                                                                                  |2015-08-31 |\n",
            "|US         |16264332   |R1G6333JHJNEUQ|B00Q3I68TU|974085141     |LilGadgets Connect+ Premium Volume Limited Wired Headphones with SharePort for Children / Kids                                                                                                                                                                                                                                                                                                                 |Wireless        |5          |0            |0          |N   |Y                |Great headphones for kids                              |We love these headphones. We had a pair each for our 2 and 4 year old. They loved them and thought it was great that they could share one device but each have their own set of headphones. Very comfortable as well.                                                                                                                                                                                                                                                                                                                                                                                                                                                                                                                                                                                                                                                                                                                                                                                                                                                                                                                                                                                                                                                                                                                                                                                                                                                                                                                                                                                                                                                                                                                                                                                                        |2015-08-31 |\n",
            "|US         |6042304    |R2DRG0UZXJQ0PE|B00TN4J1TA|716174627     |Anker Aluminum Multi-Angle Universal Phone and Tablet Stand for iPhone, iPad, Samsung Galaxy, HTC, Nexus and More (Silver)                                                                                                                                                                                                                                                                                     |Wireless        |5          |0            |0          |N   |Y                |Five Stars                                             |This is well worth the money.                                                                                                                                                                                                                                                                                                                                                                                                                                                                                                                                                                                                                                                                                                                                                                                                                                                                                                                                                                                                                                                                                                                                                                                                                                                                                                                                                                                                                                                                                                                                                                                                                                                                                                                                                                                                |2015-08-31 |\n",
            "+-----------+-----------+--------------+----------+--------------+---------------------------------------------------------------------------------------------------------------------------------------------------------------------------------------------------------------------------------------------------------------------------------------------------------------------------------------------------------------------------------------------------------------+----------------+-----------+-------------+-----------+----+-----------------+-------------------------------------------------------+-----------------------------------------------------------------------------------------------------------------------------------------------------------------------------------------------------------------------------------------------------------------------------------------------------------------------------------------------------------------------------------------------------------------------------------------------------------------------------------------------------------------------------------------------------------------------------------------------------------------------------------------------------------------------------------------------------------------------------------------------------------------------------------------------------------------------------------------------------------------------------------------------------------------------------------------------------------------------------------------------------------------------------------------------------------------------------------------------------------------------------------------------------------------------------------------------------------------------------------------------------------------------------------------------------------------------------------------------------------------------------------------------------------------------------------------------------------------------------------------------------------------------------------------------------------------------------------------------------------------------------------------------------------------------------------------------------------------------------------------------------------------------------------------------------------------------------+-----------+\n",
            "only showing top 20 rows\n",
            "\n"
          ]
        }
      ]
    },
    {
      "cell_type": "code",
      "metadata": {
        "id": "2Asu-tMsjxd8",
        "colab": {
          "base_uri": "https://localhost:8080/"
        },
        "outputId": "845dafe4-d706-4828-e9e0-1c0227bc22c5"
      },
      "source": [
        "dropna_df.columns"
      ],
      "execution_count": 8,
      "outputs": [
        {
          "output_type": "execute_result",
          "data": {
            "text/plain": [
              "['marketplace',\n",
              " 'customer_id',\n",
              " 'review_id',\n",
              " 'product_id',\n",
              " 'product_parent',\n",
              " 'product_title',\n",
              " 'product_category',\n",
              " 'star_rating',\n",
              " 'helpful_votes',\n",
              " 'total_votes',\n",
              " 'vine',\n",
              " 'verified_purchase',\n",
              " 'review_headline',\n",
              " 'review_body',\n",
              " 'review_date']"
            ]
          },
          "metadata": {},
          "execution_count": 8
        }
      ]
    },
    {
      "cell_type": "code",
      "metadata": {
        "colab": {
          "base_uri": "https://localhost:8080/"
        },
        "id": "ZQkohtu8sRl-",
        "outputId": "46eddcff-920b-4d5e-f9bd-c13d4c50fcbc"
      },
      "source": [
        "dropna_df.describe"
      ],
      "execution_count": 9,
      "outputs": [
        {
          "output_type": "execute_result",
          "data": {
            "text/plain": [
              "<bound method DataFrame.describe of DataFrame[marketplace: string, customer_id: int, review_id: string, product_id: string, product_parent: int, product_title: string, product_category: string, star_rating: string, helpful_votes: int, total_votes: int, vine: string, verified_purchase: string, review_headline: string, review_body: string, review_date: string]>"
            ]
          },
          "metadata": {},
          "execution_count": 9
        }
      ]
    },
    {
      "cell_type": "code",
      "metadata": {
        "colab": {
          "base_uri": "https://localhost:8080/"
        },
        "id": "CqXgtV9bfeo9",
        "outputId": "8743e7a9-d7bd-404f-ff20-00be1ec2d90f"
      },
      "source": [
        "# extracting number of rows from the Dataframe\n",
        "row = dropna_df.count()\n",
        "   \n",
        "# extracting number of columns from the Dataframe\n",
        "col = len(dropna_df.columns)\n",
        " \n",
        "# printing\n",
        "print(f'Dimension of the Dataframe is: {(row,col)}')\n",
        "print(f'Number of Rows are: {row}')\n",
        "print(f'Number of Columns are: {col}')"
      ],
      "execution_count": 10,
      "outputs": [
        {
          "output_type": "stream",
          "name": "stdout",
          "text": [
            "Dimension of the Dataframe is: (9001052, 15)\n",
            "Number of Rows are: 9001052\n",
            "Number of Columns are: 15\n"
          ]
        }
      ]
    },
    {
      "cell_type": "code",
      "metadata": {
        "colab": {
          "base_uri": "https://localhost:8080/"
        },
        "id": "SlFaZef0NSfD",
        "outputId": "2f1ae28f-11f6-4713-a00c-af5f2dbd609e"
      },
      "source": [
        "# Change the datatype of columns\n",
        "# We can also make use of datatypes from \n",
        "# pyspark.sql.types\n",
        "from pyspark.sql.types import StringType, DateType, IntegerType\n",
        "  \n",
        "new_df = dropna_df \\\n",
        "  .withColumn(\"star_rating\" ,\n",
        "              dropna_df[\"star_rating\"]\n",
        "              .cast(IntegerType())) \\\n",
        "  .withColumn(\"review_date\"  ,\n",
        "              dropna_df[\"review_date\"]\n",
        "              .cast(DateType())) \\\n",
        "  \n",
        "new_df.printSchema()"
      ],
      "execution_count": 11,
      "outputs": [
        {
          "output_type": "stream",
          "name": "stdout",
          "text": [
            "root\n",
            " |-- marketplace: string (nullable = true)\n",
            " |-- customer_id: integer (nullable = true)\n",
            " |-- review_id: string (nullable = true)\n",
            " |-- product_id: string (nullable = true)\n",
            " |-- product_parent: integer (nullable = true)\n",
            " |-- product_title: string (nullable = true)\n",
            " |-- product_category: string (nullable = true)\n",
            " |-- star_rating: integer (nullable = true)\n",
            " |-- helpful_votes: integer (nullable = true)\n",
            " |-- total_votes: integer (nullable = true)\n",
            " |-- vine: string (nullable = true)\n",
            " |-- verified_purchase: string (nullable = true)\n",
            " |-- review_headline: string (nullable = true)\n",
            " |-- review_body: string (nullable = true)\n",
            " |-- review_date: date (nullable = true)\n",
            "\n"
          ]
        }
      ]
    },
    {
      "cell_type": "code",
      "metadata": {
        "colab": {
          "base_uri": "https://localhost:8080/"
        },
        "id": "rbpFzX2zRc-b",
        "outputId": "31a98158-b701-4a62-d57d-442429f549f8"
      },
      "source": [
        "new_df.show(10)"
      ],
      "execution_count": 12,
      "outputs": [
        {
          "output_type": "stream",
          "name": "stdout",
          "text": [
            "+-----------+-----------+--------------+----------+--------------+--------------------+----------------+-----------+-------------+-----------+----+-----------------+--------------------+--------------------+-----------+\n",
            "|marketplace|customer_id|     review_id|product_id|product_parent|       product_title|product_category|star_rating|helpful_votes|total_votes|vine|verified_purchase|     review_headline|         review_body|review_date|\n",
            "+-----------+-----------+--------------+----------+--------------+--------------------+----------------+-----------+-------------+-----------+----+-----------------+--------------------+--------------------+-----------+\n",
            "|         US|   16414143|R3W4P9UBGNGH1U|B00YL0EKWE|     852431543|LG G4 Case Hard T...|        Wireless|          2|            1|          3|   N|                Y|Looks good, funct...|2 issues  -  Once...| 2015-08-31|\n",
            "|         US|   50800750|R15V54KBMTQWAY|B00XK95RPQ|     516894650|Selfie Stick Fibl...|        Wireless|          4|            0|          0|   N|                N| A fun little gadget|I’m embarrassed t...| 2015-08-31|\n",
            "|         US|   15184378| RY8I449HNXSVF|B00SXRXUKO|     984297154|Tribe AB40 Water ...|        Wireless|          5|            0|          0|   N|                Y|          Five Stars|  Fits iPhone 6 well| 2015-08-31|\n",
            "|         US|   10203548|R18TLJYCKJFLSR|B009V5X1CE|     279912704|RAVPower® Element...|        Wireless|          5|            0|          0|   N|                Y|       Great charger|Great charger.  I...| 2015-08-31|\n",
            "|         US|     488280|R1NK26SWS53B8Q|B00D93OVF0|     662791300|Fosmon Micro USB ...|        Wireless|          5|            0|          0|   N|                Y|          Five Stars|Great for the pri...| 2015-08-31|\n",
            "|         US|   13334021|R11LOHEDYJALTN|B00XVGJMDQ|     421688488|iPhone 6 Case, Vo...|        Wireless|          5|            0|          0|   N|                Y|          Five Stars|Great Case, bette...| 2015-08-31|\n",
            "|         US|   27520697|R3ALQVQB2P9LA7|B00KQW1X1C|     554285554|Nokia Lumia 630 R...|        Wireless|          4|            0|          0|   N|                Y|          Four Stars|Easy to set up an...| 2015-08-31|\n",
            "|         US|   48086021|R3MWLXLNO21PDQ|B00IP1MQNK|     488006702|Lumsing 10400mah ...|        Wireless|          5|            0|          0|   N|                Y|          Five Stars|         Works great| 2015-08-31|\n",
            "|         US|   12738196|R2L15IS24CX0LI|B00HVORET8|     389677711|iPhone 5S Battery...|        Wireless|          5|            0|          0|   N|                Y|      So far so good|So far so good. I...| 2015-08-31|\n",
            "|         US|   15867807|R1DJ8976WPWVZU|B00HX3G6J6|     299654876|HTC One M8 Screen...|        Wireless|          3|            0|          0|   N|                Y|seems durable but...|seems durable but...| 2015-08-31|\n",
            "+-----------+-----------+--------------+----------+--------------+--------------------+----------------+-----------+-------------+-----------+----+-----------------+--------------------+--------------------+-----------+\n",
            "only showing top 10 rows\n",
            "\n"
          ]
        }
      ]
    },
    {
      "cell_type": "code",
      "metadata": {
        "id": "rfkV4ccEPo-K",
        "colab": {
          "base_uri": "https://localhost:8080/"
        },
        "outputId": "02772f96-20bf-48d2-af92-901faba26ae0"
      },
      "source": [
        "new_df.select('review_id')"
      ],
      "execution_count": 13,
      "outputs": [
        {
          "output_type": "execute_result",
          "data": {
            "text/plain": [
              "DataFrame[review_id: string]"
            ]
          },
          "metadata": {},
          "execution_count": 13
        }
      ]
    },
    {
      "cell_type": "code",
      "metadata": {
        "id": "peQ-7mNKPpCM",
        "colab": {
          "base_uri": "https://localhost:8080/"
        },
        "outputId": "7e717d81-ba4b-433f-ba15-0d30e4afed93"
      },
      "source": [
        "type(new_df.select('review_id'))"
      ],
      "execution_count": 14,
      "outputs": [
        {
          "output_type": "execute_result",
          "data": {
            "text/plain": [
              "pyspark.sql.dataframe.DataFrame"
            ]
          },
          "metadata": {},
          "execution_count": 14
        }
      ]
    },
    {
      "cell_type": "code",
      "metadata": {
        "id": "vQlcSkxEX3Kc",
        "colab": {
          "base_uri": "https://localhost:8080/"
        },
        "outputId": "d977b684-5ac4-4b30-ce45-9df86f58ac60"
      },
      "source": [
        "new_df.select('review_id').show()"
      ],
      "execution_count": 15,
      "outputs": [
        {
          "output_type": "stream",
          "name": "stdout",
          "text": [
            "+--------------+\n",
            "|     review_id|\n",
            "+--------------+\n",
            "|R3W4P9UBGNGH1U|\n",
            "|R15V54KBMTQWAY|\n",
            "| RY8I449HNXSVF|\n",
            "|R18TLJYCKJFLSR|\n",
            "|R1NK26SWS53B8Q|\n",
            "|R11LOHEDYJALTN|\n",
            "|R3ALQVQB2P9LA7|\n",
            "|R3MWLXLNO21PDQ|\n",
            "|R2L15IS24CX0LI|\n",
            "|R1DJ8976WPWVZU|\n",
            "|R3MRWNNR8CBTB7|\n",
            "|R1DS6DKTUXAQK3|\n",
            "| RWJM5E0TWUJD2|\n",
            "|R1XTJKDYNCRGAC|\n",
            "|R2UZL3DPWEU1XW|\n",
            "|R2EZXET9KBFFU3|\n",
            "|R26VY1L1FD3LPU|\n",
            "|R2SSA4NSFCV18T|\n",
            "|R1G6333JHJNEUQ|\n",
            "|R2DRG0UZXJQ0PE|\n",
            "+--------------+\n",
            "only showing top 20 rows\n",
            "\n"
          ]
        }
      ]
    },
    {
      "cell_type": "code",
      "metadata": {
        "id": "h4whqBb4X3d6",
        "colab": {
          "base_uri": "https://localhost:8080/"
        },
        "outputId": "aefe8642-d5e0-43ce-f14b-94c0ff24f7a8"
      },
      "source": [
        "# Remove leading and trailing space of the column in pyspark\n",
        "\n",
        "from pyspark.sql.functions import *\n",
        "\n",
        "new_df = new_df.withColumn('customer_id', trim(new_df.customer_id))\n",
        "\n",
        "new_df.show(10)\n"
      ],
      "execution_count": 16,
      "outputs": [
        {
          "output_type": "stream",
          "name": "stdout",
          "text": [
            "+-----------+-----------+--------------+----------+--------------+--------------------+----------------+-----------+-------------+-----------+----+-----------------+--------------------+--------------------+-----------+\n",
            "|marketplace|customer_id|     review_id|product_id|product_parent|       product_title|product_category|star_rating|helpful_votes|total_votes|vine|verified_purchase|     review_headline|         review_body|review_date|\n",
            "+-----------+-----------+--------------+----------+--------------+--------------------+----------------+-----------+-------------+-----------+----+-----------------+--------------------+--------------------+-----------+\n",
            "|         US|   16414143|R3W4P9UBGNGH1U|B00YL0EKWE|     852431543|LG G4 Case Hard T...|        Wireless|          2|            1|          3|   N|                Y|Looks good, funct...|2 issues  -  Once...| 2015-08-31|\n",
            "|         US|   50800750|R15V54KBMTQWAY|B00XK95RPQ|     516894650|Selfie Stick Fibl...|        Wireless|          4|            0|          0|   N|                N| A fun little gadget|I’m embarrassed t...| 2015-08-31|\n",
            "|         US|   15184378| RY8I449HNXSVF|B00SXRXUKO|     984297154|Tribe AB40 Water ...|        Wireless|          5|            0|          0|   N|                Y|          Five Stars|  Fits iPhone 6 well| 2015-08-31|\n",
            "|         US|   10203548|R18TLJYCKJFLSR|B009V5X1CE|     279912704|RAVPower® Element...|        Wireless|          5|            0|          0|   N|                Y|       Great charger|Great charger.  I...| 2015-08-31|\n",
            "|         US|     488280|R1NK26SWS53B8Q|B00D93OVF0|     662791300|Fosmon Micro USB ...|        Wireless|          5|            0|          0|   N|                Y|          Five Stars|Great for the pri...| 2015-08-31|\n",
            "|         US|   13334021|R11LOHEDYJALTN|B00XVGJMDQ|     421688488|iPhone 6 Case, Vo...|        Wireless|          5|            0|          0|   N|                Y|          Five Stars|Great Case, bette...| 2015-08-31|\n",
            "|         US|   27520697|R3ALQVQB2P9LA7|B00KQW1X1C|     554285554|Nokia Lumia 630 R...|        Wireless|          4|            0|          0|   N|                Y|          Four Stars|Easy to set up an...| 2015-08-31|\n",
            "|         US|   48086021|R3MWLXLNO21PDQ|B00IP1MQNK|     488006702|Lumsing 10400mah ...|        Wireless|          5|            0|          0|   N|                Y|          Five Stars|         Works great| 2015-08-31|\n",
            "|         US|   12738196|R2L15IS24CX0LI|B00HVORET8|     389677711|iPhone 5S Battery...|        Wireless|          5|            0|          0|   N|                Y|      So far so good|So far so good. I...| 2015-08-31|\n",
            "|         US|   15867807|R1DJ8976WPWVZU|B00HX3G6J6|     299654876|HTC One M8 Screen...|        Wireless|          3|            0|          0|   N|                Y|seems durable but...|seems durable but...| 2015-08-31|\n",
            "+-----------+-----------+--------------+----------+--------------+--------------------+----------------+-----------+-------------+-----------+----+-----------------+--------------------+--------------------+-----------+\n",
            "only showing top 10 rows\n",
            "\n"
          ]
        }
      ]
    },
    {
      "cell_type": "code",
      "metadata": {
        "id": "CEuiQ9xSe3C_",
        "colab": {
          "base_uri": "https://localhost:8080/"
        },
        "outputId": "832bd304-2097-4d21-e05b-eb17c3135e53"
      },
      "source": [
        "# extracting number of rows from the Dataframe\n",
        "row = new_df.count()\n",
        "   \n",
        "# extracting number of columns from the Dataframe\n",
        "col = len(new_df.columns)\n",
        " \n",
        "# printing\n",
        "print(f'Dimension of the new_df is: {(row,col)}')\n",
        "print(f'Number of Rows are: {row}')\n",
        "print(f'Number of Columns are: {col}')"
      ],
      "execution_count": 17,
      "outputs": [
        {
          "output_type": "stream",
          "name": "stdout",
          "text": [
            "Dimension of the new_df is: (9001052, 15)\n",
            "Number of Rows are: 9001052\n",
            "Number of Columns are: 15\n"
          ]
        }
      ]
    },
    {
      "cell_type": "code",
      "metadata": {
        "colab": {
          "base_uri": "https://localhost:8080/"
        },
        "id": "xg3LObpqUi1g",
        "outputId": "47fedb61-fcf4-48fc-afa0-50562cc639a9"
      },
      "source": [
        "review_df = new_df.select([\"review_id\", \"customer_id\", \"product_id\", \"product_parent\", \"review_date\"])\n",
        "review_df.show(10)"
      ],
      "execution_count": 18,
      "outputs": [
        {
          "output_type": "stream",
          "name": "stdout",
          "text": [
            "+--------------+-----------+----------+--------------+-----------+\n",
            "|     review_id|customer_id|product_id|product_parent|review_date|\n",
            "+--------------+-----------+----------+--------------+-----------+\n",
            "|R3W4P9UBGNGH1U|   16414143|B00YL0EKWE|     852431543| 2015-08-31|\n",
            "|R15V54KBMTQWAY|   50800750|B00XK95RPQ|     516894650| 2015-08-31|\n",
            "| RY8I449HNXSVF|   15184378|B00SXRXUKO|     984297154| 2015-08-31|\n",
            "|R18TLJYCKJFLSR|   10203548|B009V5X1CE|     279912704| 2015-08-31|\n",
            "|R1NK26SWS53B8Q|     488280|B00D93OVF0|     662791300| 2015-08-31|\n",
            "|R11LOHEDYJALTN|   13334021|B00XVGJMDQ|     421688488| 2015-08-31|\n",
            "|R3ALQVQB2P9LA7|   27520697|B00KQW1X1C|     554285554| 2015-08-31|\n",
            "|R3MWLXLNO21PDQ|   48086021|B00IP1MQNK|     488006702| 2015-08-31|\n",
            "|R2L15IS24CX0LI|   12738196|B00HVORET8|     389677711| 2015-08-31|\n",
            "|R1DJ8976WPWVZU|   15867807|B00HX3G6J6|     299654876| 2015-08-31|\n",
            "+--------------+-----------+----------+--------------+-----------+\n",
            "only showing top 10 rows\n",
            "\n"
          ]
        }
      ]
    },
    {
      "cell_type": "code",
      "metadata": {
        "colab": {
          "base_uri": "https://localhost:8080/"
        },
        "id": "kljz7mvljU24",
        "outputId": "37d02599-28cf-4b93-fca3-2bb42a280ad3"
      },
      "source": [
        "# Create customer_df and rename the columns in customer_df for customer count\n",
        "from pyspark.sql.functions import col\n",
        "\n",
        "customer_df = customer_df.select(col(\"customer_id\").alias(\"customer_id\"), col(\"count(customer_id)\").alias(\"customer_count\"))\n",
        "customer_df.show()"
      ],
      "execution_count": 21,
      "outputs": [
        {
          "output_type": "stream",
          "name": "stdout",
          "text": [
            "+-----------+--------------+\n",
            "|customer_id|customer_count|\n",
            "+-----------+--------------+\n",
            "|    1355626|             1|\n",
            "|   15043009|             1|\n",
            "|   22770141|             3|\n",
            "|   45481568|             3|\n",
            "|   25404882|             2|\n",
            "|    4697081|             2|\n",
            "|   13888158|             3|\n",
            "|   18288553|             2|\n",
            "|   22279960|             1|\n",
            "|   25278739|             2|\n",
            "|   15407188|             1|\n",
            "|    5030775|            21|\n",
            "|   13267537|             1|\n",
            "|   29937804|             1|\n",
            "|   20919693|             1|\n",
            "|    8854514|             3|\n",
            "|   49258595|             8|\n",
            "|     234036|             1|\n",
            "|   33346823|             1|\n",
            "|    7403004|             1|\n",
            "+-----------+--------------+\n",
            "only showing top 20 rows\n",
            "\n"
          ]
        }
      ]
    },
    {
      "cell_type": "code",
      "metadata": {
        "colab": {
          "base_uri": "https://localhost:8080/"
        },
        "id": "ut0whem112Gz",
        "outputId": "c31063cc-b66d-4c6d-8ecb-06b81fc258e8"
      },
      "source": [
        "customer_df.count()"
      ],
      "execution_count": 31,
      "outputs": [
        {
          "output_type": "execute_result",
          "data": {
            "text/plain": [
              "5197356"
            ]
          },
          "metadata": {},
          "execution_count": 31
        }
      ]
    },
    {
      "cell_type": "code",
      "metadata": {
        "colab": {
          "base_uri": "https://localhost:8080/"
        },
        "id": "v_sdx59a1tnC",
        "outputId": "d9541674-791a-4600-e1d9-650d50ac9727"
      },
      "source": [
        "customer_df.distinct().count()"
      ],
      "execution_count": 32,
      "outputs": [
        {
          "output_type": "execute_result",
          "data": {
            "text/plain": [
              "5197356"
            ]
          },
          "metadata": {},
          "execution_count": 32
        }
      ]
    },
    {
      "cell_type": "code",
      "metadata": {
        "colab": {
          "base_uri": "https://localhost:8080/"
        },
        "id": "JFqXhFm0r8Yt",
        "outputId": "b7ad8c13-5d78-42fa-bd8f-9db35dc0d154"
      },
      "source": [
        "vine_df = new_df.select([\"review_id\", \"star_rating\", \"helpful_votes\", \"total_votes\", \"vine\"])\n",
        "vine_df.show(10)"
      ],
      "execution_count": 22,
      "outputs": [
        {
          "output_type": "stream",
          "name": "stdout",
          "text": [
            "+--------------+-----------+-------------+-----------+----+\n",
            "|     review_id|star_rating|helpful_votes|total_votes|vine|\n",
            "+--------------+-----------+-------------+-----------+----+\n",
            "|R3W4P9UBGNGH1U|          2|            1|          3|   N|\n",
            "|R15V54KBMTQWAY|          4|            0|          0|   N|\n",
            "| RY8I449HNXSVF|          5|            0|          0|   N|\n",
            "|R18TLJYCKJFLSR|          5|            0|          0|   N|\n",
            "|R1NK26SWS53B8Q|          5|            0|          0|   N|\n",
            "|R11LOHEDYJALTN|          5|            0|          0|   N|\n",
            "|R3ALQVQB2P9LA7|          4|            0|          0|   N|\n",
            "|R3MWLXLNO21PDQ|          5|            0|          0|   N|\n",
            "|R2L15IS24CX0LI|          5|            0|          0|   N|\n",
            "|R1DJ8976WPWVZU|          3|            0|          0|   N|\n",
            "+--------------+-----------+-------------+-----------+----+\n",
            "only showing top 10 rows\n",
            "\n"
          ]
        }
      ]
    },
    {
      "cell_type": "code",
      "metadata": {
        "colab": {
          "base_uri": "https://localhost:8080/"
        },
        "id": "ZjNbZZG-tt14",
        "outputId": "80c68c30-204f-4f94-84e0-013204f84e86"
      },
      "source": [
        "from pyspark.sql.functions import isnan\n",
        "new_df.filter((new_df[\"review_id\"] == \"\") | new_df[\"review_id\"].isNull() | isnan(new_df[\"review_id\"])).count()"
      ],
      "execution_count": 24,
      "outputs": [
        {
          "output_type": "execute_result",
          "data": {
            "text/plain": [
              "0"
            ]
          },
          "metadata": {},
          "execution_count": 24
        }
      ]
    },
    {
      "cell_type": "code",
      "metadata": {
        "colab": {
          "base_uri": "https://localhost:8080/"
        },
        "id": "uQQjbzsOxPog",
        "outputId": "f0278f00-5320-47d8-b082-445f75a2693a"
      },
      "source": [
        "from pyspark.sql.functions import isnan\n",
        "new_df.filter((new_df[\"customer_id\"] == \"\") | new_df[\"customer_id\"].isNull() | isnan(new_df[\"customer_id\"])).count()"
      ],
      "execution_count": 25,
      "outputs": [
        {
          "output_type": "execute_result",
          "data": {
            "text/plain": [
              "0"
            ]
          },
          "metadata": {},
          "execution_count": 25
        }
      ]
    },
    {
      "cell_type": "code",
      "metadata": {
        "colab": {
          "base_uri": "https://localhost:8080/"
        },
        "id": "mZhctIb4xPsZ",
        "outputId": "4c5f0818-8f22-42a7-9ec6-323035a27ff9"
      },
      "source": [
        "product_df = new_df.select([\"product_id\", \"product_title\"])\n",
        "product_df.show(10)"
      ],
      "execution_count": 26,
      "outputs": [
        {
          "output_type": "stream",
          "name": "stdout",
          "text": [
            "+----------+--------------------+\n",
            "|product_id|       product_title|\n",
            "+----------+--------------------+\n",
            "|B00YL0EKWE|LG G4 Case Hard T...|\n",
            "|B00XK95RPQ|Selfie Stick Fibl...|\n",
            "|B00SXRXUKO|Tribe AB40 Water ...|\n",
            "|B009V5X1CE|RAVPower® Element...|\n",
            "|B00D93OVF0|Fosmon Micro USB ...|\n",
            "|B00XVGJMDQ|iPhone 6 Case, Vo...|\n",
            "|B00KQW1X1C|Nokia Lumia 630 R...|\n",
            "|B00IP1MQNK|Lumsing 10400mah ...|\n",
            "|B00HVORET8|iPhone 5S Battery...|\n",
            "|B00HX3G6J6|HTC One M8 Screen...|\n",
            "+----------+--------------------+\n",
            "only showing top 10 rows\n",
            "\n"
          ]
        }
      ]
    },
    {
      "cell_type": "code",
      "metadata": {
        "colab": {
          "base_uri": "https://localhost:8080/"
        },
        "id": "bK5RhVLqzI3Z",
        "outputId": "322a093e-0b92-4784-ba74-0200c1de000a"
      },
      "source": [
        "product_df.distinct().count()"
      ],
      "execution_count": 28,
      "outputs": [
        {
          "output_type": "execute_result",
          "data": {
            "text/plain": [
              "906482"
            ]
          },
          "metadata": {},
          "execution_count": 28
        }
      ]
    },
    {
      "cell_type": "code",
      "metadata": {
        "colab": {
          "base_uri": "https://localhost:8080/"
        },
        "id": "KPLfLGdSzOXM",
        "outputId": "c896efd0-9a14-45b7-89e0-e9125e6bc578"
      },
      "source": [
        "product_df.count()"
      ],
      "execution_count": 29,
      "outputs": [
        {
          "output_type": "execute_result",
          "data": {
            "text/plain": [
              "9001052"
            ]
          },
          "metadata": {},
          "execution_count": 29
        }
      ]
    },
    {
      "cell_type": "code",
      "metadata": {
        "colab": {
          "base_uri": "https://localhost:8080/"
        },
        "id": "DS5UEG-m0uBU",
        "outputId": "d17a1b24-e905-4ce1-9815-35969706a30f"
      },
      "source": [
        "product_df = product_df.distinct()\n",
        "product_df.show()"
      ],
      "execution_count": 33,
      "outputs": [
        {
          "output_type": "stream",
          "name": "stdout",
          "text": [
            "+----------+--------------------+\n",
            "|product_id|       product_title|\n",
            "+----------+--------------------+\n",
            "|B010LVPJH6|LG G Watch Urbane...|\n",
            "|B00K5ZNXZ4|Minisuit Sporty A...|\n",
            "|B00S9RBQOK|iPhone 6 Plus Cas...|\n",
            "|B0116N7GYC|Selfie Stick, Por...|\n",
            "|B009UNH0CY|Plantronics Voyag...|\n",
            "|B00L8GFYAG|Eallc New Quality...|\n",
            "|B00R3LMTI0|Kaleidio [Wallop ...|\n",
            "|B011R0VG36|Galaxy Note 4 Cas...|\n",
            "|B00BXX0QVQ|iKross Black Dual...|\n",
            "|B00F4AYI2M|Incipio DualPro C...|\n",
            "|B00GPI3OHC|Retevis H-777 2 W...|\n",
            "|B00Y9ZUVU6|Tiwkich 2 in 1 Du...|\n",
            "|B00W65SYHS|LG G4 case, Caseo...|\n",
            "|B00V5OU6CW|S5 Leather case,P...|\n",
            "|B00LP3FSH6|Escort Coiled Sma...|\n",
            "|B00MIO2KRC|Black Box G1W-C C...|\n",
            "|B00V5FZM0M|   KoKo Cases 5/5S !|\n",
            "|B00T1KO2TA|iPhone 6 & 6S Cas...|\n",
            "|B00YU9XOTQ|Galaxy S5 Screen ...|\n",
            "|B00PI7IGHE|Soyan Latest DZ09...|\n",
            "+----------+--------------------+\n",
            "only showing top 20 rows\n",
            "\n"
          ]
        }
      ]
    },
    {
      "cell_type": "code",
      "metadata": {
        "id": "OU-UOkzr0uJI"
      },
      "source": [
        ""
      ],
      "execution_count": null,
      "outputs": []
    }
  ]
}