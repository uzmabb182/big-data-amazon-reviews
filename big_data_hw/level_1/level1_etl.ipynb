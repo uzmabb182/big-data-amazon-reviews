{
  "nbformat": 4,
  "nbformat_minor": 0,
  "metadata": {
    "colab": {
      "name": "level1_etl.ipynb",
      "provenance": []
    },
    "kernelspec": {
      "name": "python3",
      "display_name": "Python 3"
    },
    "language_info": {
      "name": "python"
    }
  },
  "cells": [
    {
      "cell_type": "code",
      "metadata": {
        "colab": {
          "base_uri": "https://localhost:8080/"
        },
        "id": "MSjDQvBBD3qu",
        "outputId": "1e87e336-e7f4-4ba1-9b20-249b16c22997"
      },
      "source": [
        "import os\n",
        "# Find the latest version of spark 3.0  from http://www.apache.org/dist/spark/ and enter as the spark version\n",
        "# For example:\n",
        "# spark_version = 'spark-3.0.3'\n",
        "spark_version = 'spark-3.0.3'\n",
        "os.environ['SPARK_VERSION']=spark_version\n",
        "\n",
        "# Install Spark and Java\n",
        "!apt-get update\n",
        "!apt-get install openjdk-11-jdk-headless -qq > /dev/null\n",
        "!wget -q http://www.apache.org/dist/spark/$SPARK_VERSION/$SPARK_VERSION-bin-hadoop2.7.tgz\n",
        "!tar xf $SPARK_VERSION-bin-hadoop2.7.tgz\n",
        "!pip install -q findspark\n",
        "\n",
        "# Set Environment Variables\n",
        "os.environ[\"JAVA_HOME\"] = \"/usr/lib/jvm/java-11-openjdk-amd64\"\n",
        "os.environ[\"SPARK_HOME\"] = f\"/content/{spark_version}-bin-hadoop2.7\"\n",
        "\n",
        "# Start a SparkSession\n",
        "import findspark\n",
        "findspark.init()"
      ],
      "execution_count": 1,
      "outputs": [
        {
          "output_type": "stream",
          "name": "stdout",
          "text": [
            "Get:1 https://cloud.r-project.org/bin/linux/ubuntu bionic-cran40/ InRelease [3,626 B]\n",
            "Ign:2 https://developer.download.nvidia.com/compute/cuda/repos/ubuntu1804/x86_64  InRelease\n",
            "Get:3 http://security.ubuntu.com/ubuntu bionic-security InRelease [88.7 kB]\n",
            "Ign:4 https://developer.download.nvidia.com/compute/machine-learning/repos/ubuntu1804/x86_64  InRelease\n",
            "Hit:5 https://developer.download.nvidia.com/compute/cuda/repos/ubuntu1804/x86_64  Release\n",
            "Hit:6 http://archive.ubuntu.com/ubuntu bionic InRelease\n",
            "Hit:7 http://ppa.launchpad.net/c2d4u.team/c2d4u4.0+/ubuntu bionic InRelease\n",
            "Hit:8 https://developer.download.nvidia.com/compute/machine-learning/repos/ubuntu1804/x86_64  Release\n",
            "Get:9 http://archive.ubuntu.com/ubuntu bionic-updates InRelease [88.7 kB]\n",
            "Hit:11 http://ppa.launchpad.net/cran/libgit2/ubuntu bionic InRelease\n",
            "Hit:12 http://ppa.launchpad.net/deadsnakes/ppa/ubuntu bionic InRelease\n",
            "Get:13 http://archive.ubuntu.com/ubuntu bionic-backports InRelease [74.6 kB]\n",
            "Hit:15 http://ppa.launchpad.net/graphics-drivers/ppa/ubuntu bionic InRelease\n",
            "Get:16 http://security.ubuntu.com/ubuntu bionic-security/universe amd64 Packages [1,428 kB]\n",
            "Get:17 http://archive.ubuntu.com/ubuntu bionic-updates/universe amd64 Packages [2,202 kB]\n",
            "Get:18 http://security.ubuntu.com/ubuntu bionic-security/main amd64 Packages [2,326 kB]\n",
            "Get:19 http://archive.ubuntu.com/ubuntu bionic-updates/main amd64 Packages [2,761 kB]\n",
            "Fetched 8,972 kB in 5s (1,801 kB/s)\n",
            "Reading package lists... Done\n"
          ]
        }
      ]
    },
    {
      "cell_type": "code",
      "metadata": {
        "colab": {
          "base_uri": "https://localhost:8080/"
        },
        "id": "Jnand5D7jdWm",
        "outputId": "777d389f-35a7-4927-fab2-9562e6fded63"
      },
      "source": [
        "!wget https://jdbc.postgresql.org/download/postgresql-42.2.9.jar"
      ],
      "execution_count": 2,
      "outputs": [
        {
          "output_type": "stream",
          "name": "stdout",
          "text": [
            "--2021-09-17 21:29:46--  https://jdbc.postgresql.org/download/postgresql-42.2.9.jar\n",
            "Resolving jdbc.postgresql.org (jdbc.postgresql.org)... 72.32.157.228, 2001:4800:3e1:1::228\n",
            "Connecting to jdbc.postgresql.org (jdbc.postgresql.org)|72.32.157.228|:443... connected.\n",
            "HTTP request sent, awaiting response... 200 OK\n",
            "Length: 914037 (893K) [application/java-archive]\n",
            "Saving to: ‘postgresql-42.2.9.jar’\n",
            "\n",
            "postgresql-42.2.9.j 100%[===================>] 892.61K  1.31MB/s    in 0.7s    \n",
            "\n",
            "2021-09-17 21:29:48 (1.31 MB/s) - ‘postgresql-42.2.9.jar’ saved [914037/914037]\n",
            "\n"
          ]
        }
      ]
    },
    {
      "cell_type": "code",
      "metadata": {
        "id": "W7M35NXDgMLy"
      },
      "source": [
        "from pyspark.sql import SparkSession\n",
        "spark = SparkSession.builder.appName(\"CloudETL\").config(\"spark.driver.extraClassPath\",\"/content/postgresql-42.2.9.jar\").getOrCreate()"
      ],
      "execution_count": 3,
      "outputs": []
    },
    {
      "cell_type": "code",
      "metadata": {
        "colab": {
          "base_uri": "https://localhost:8080/"
        },
        "id": "TdPcqqBagN1y",
        "outputId": "b4b5e588-848c-47a4-9c61-86e022151dc6"
      },
      "source": [
        "# Read in data from S3 Buckets\n",
        "from pyspark import SparkFiles\n",
        "url=\"https://s3.amazonaws.com/amazon-reviews-pds/tsv/amazon_reviews_us_Wireless_v1_00.tsv.gz\"\n",
        "spark.sparkContext.addFile(url)\n",
        "user_data_df = spark.read.csv(SparkFiles.get(\"amazon_reviews_us_Wireless_v1_00.tsv.gz\"), sep=\",\", header=True, inferSchema=True)\n",
        "\n",
        "# Show DataFrame\n",
        "user_data_df.show(truncate=False)"
      ],
      "execution_count": 4,
      "outputs": [
        {
          "output_type": "stream",
          "name": "stdout",
          "text": [
            "+----------------------------------------------------------------------------------------------------------------------------------------------------------------------------------------------------------------------------------------------------------------------------------------------------------------------------------------------------------------------------------------------------------------------------+\n",
            "|marketplace\tcustomer_id\treview_id\tproduct_id\tproduct_parent\tproduct_title\tproduct_category\tstar_rating\thelpful_votes\ttotal_votes\tvine\tverified_purchase\treview_headline\treview_body\treview_date                                                                                                                                                                                                                             |\n",
            "+----------------------------------------------------------------------------------------------------------------------------------------------------------------------------------------------------------------------------------------------------------------------------------------------------------------------------------------------------------------------------------------------------------------------------+\n",
            "|US\t16414143\tR3W4P9UBGNGH1U\tB00YL0EKWE\t852431543\tLG G4 Case Hard Transparent Slim Clear Cover for LG G4\tWireless\t2\t1\t3\tN\tY\tLooks good                                                                                                                                                                                                                                                                                        |\n",
            "|US\t50800750\tR15V54KBMTQWAY\tB00XK95RPQ\t516894650\tSelfie Stick Fiblastiq&trade; Extendable Wireless Bluetooth Selfie Stick with built-in Bluetooth Adjustable Phone Holder\tWireless\t4\t0\t0\tN\tN\tA fun little gadget\tI’m embarrassed to admit that until recently                                                                                                                                                                |\n",
            "|US\t15184378\tRY8I449HNXSVF\tB00SXRXUKO\t984297154\tTribe AB40 Water Resistant Sports Armband with Key Holder for 4.7-Inch iPhone 6S/6/5/5S/5C                                                                                                                                                                                                                                                                                   |\n",
            "|US\t10203548\tR18TLJYCKJFLSR\tB009V5X1CE\t279912704\tRAVPower® Element 10400mAh External Battery USB Portable Charger (Dual USB Outputs                                                                                                                                                                                                                                                                                          |\n",
            "|US\t488280\tR1NK26SWS53B8Q\tB00D93OVF0\t662791300\tFosmon Micro USB Value Pack Bundle for Samsung Galaxy Exhilarate - Includes Home / Travel Charger                                                                                                                                                                                                                                                                             |\n",
            "|US\t13334021\tR11LOHEDYJALTN\tB00XVGJMDQ\t421688488\tiPhone 6 Case                                                                                                                                                                                                                                                                                                                                                               |\n",
            "|US\t27520697\tR3ALQVQB2P9LA7\tB00KQW1X1C\t554285554\tNokia Lumia 630 RM-978 White Factory Unlocked - International Version No Warranty\tWireless\t4\t0\t0\tN\tY\tFour Stars\tEasy to set up and use. Great functions for the price\t2015-08-31                                                                                                                                                                                            |\n",
            "|US\t48086021\tR3MWLXLNO21PDQ\tB00IP1MQNK\t488006702\tLumsing 10400mah external battery\tWireless\t5\t0\t0\tN\tY\tFive Stars\tWorks great\t2015-08-31                                                                                                                                                                                                                                                                                      |\n",
            "|US\t12738196\tR2L15IS24CX0LI\tB00HVORET8\t389677711\tiPhone 5S Battery Case - iPhone 5 Battery Case                                                                                                                                                                                                                                                                                                                              |\n",
            "|US\t15867807\tR1DJ8976WPWVZU\tB00HX3G6J6\t299654876\tHTC One M8 Screen Protector                                                                                                                                                                                                                                                                                                                                                 |\n",
            "|US\t1972249\tR3MRWNNR8CBTB7\tB00U4NATNQ\t577878727\tS6 Case - Bear Motion for Galaxy S6 - Premium Back Cover for Samsung Galaxy S6 - Sand (Black)\tWireless\t5\t0\t0\tN\tY\tSuper thin                                                                                                                                                                                                                                                  |\n",
            "|US\t10956619\tR1DS6DKTUXAQK3\tB00SZEFDH8\t654620704\tBLU Studio X                                                                                                                                                                                                                                                                                                                                                                |\n",
            "|US\t14805911\tRWJM5E0TWUJD2\tB00JRJUL9U\t391166958\tEZOPower 5-Port Usb Car Charger with 3-Feet Extension Cord                                                                                                                                                                                                                                                                                                                   |\n",
            "|US\t15611116\tR1XTJKDYNCRGAC\tB00KQ4T0HE\t481551630\tiPhone 6S Case &iPhone 6 Case Perfect designed 3D Phone cover for i6/6s Cute bulldog Colourful case for iphone6/6s-PC case\tWireless\t1\t0\t0\tN\tY\tVery cheap case. This not protect anything. Very ...\tVery cheap case. This not protect anything. Very fragil.!! After i got it I went to buy a otter case expensive but worth it.\t2015-08-31                                  |\n",
            "|US\t39298603\tR2UZL3DPWEU1XW\tB00M0YWKPM\t685107474\tiPhone 6s Plus Case\tWireless\t5\t0\t0\tN\tY\tFive Stars\tson loves it.\t2015-08-31                                                                                                                                                                                                                                                                                                  |\n",
            "|US\t17552454\tR2EZXET9KBFFU3\tB00KDZEE68\t148320945\tzBoost ZB575-A TRIO SOHO Tri Band AT&T 4G Cell Phone Signal Booster                                                                                                                                                                                                                                                                                                         |\n",
            "|US\t12218556\tR26VY1L1FD3LPU\tB00BJN45GM\t47788188\tOtterBox Defender Series Case for HTC One\tWireless\t5\t0\t0\tN\tY\tFive Stars\tAwesome                                                                                                                                                                                                                                                                                              |\n",
            "|US\t21872923\tR2SSA4NSFCV18T\tB00SA86SXW\t748759272\tAduro PowerUP 30W 4-Port (6A Total) PWC-4U Charging Station / USB Travel Wall Charger / USB Desktop Charger for iPhone                                                                                                                                                                                                                                                      |\n",
            "|US\t16264332\tR1G6333JHJNEUQ\tB00Q3I68TU\t974085141\tLilGadgets Connect+ Premium Volume Limited Wired Headphones with SharePort for Children / Kids\tWireless\t5\t0\t0\tN\tY\tGreat headphones for kids\tWe love these headphones. We had a pair each for our 2 and 4 year old. They loved them and thought it was great that they could share one device but each have their own set of headphones. Very comfortable as well.\t2015-08-31|\n",
            "|US\t6042304\tR2DRG0UZXJQ0PE\tB00TN4J1TA\t716174627\tAnker Aluminum Multi-Angle Universal Phone and Tablet Stand for iPhone                                                                                                                                                                                                                                                                                                       |\n",
            "+----------------------------------------------------------------------------------------------------------------------------------------------------------------------------------------------------------------------------------------------------------------------------------------------------------------------------------------------------------------------------------------------------------------------------+\n",
            "only showing top 20 rows\n",
            "\n"
          ]
        }
      ]
    },
    {
      "cell_type": "code",
      "metadata": {
        "id": "1LFMNIDNMIwu",
        "colab": {
          "base_uri": "https://localhost:8080/"
        },
        "outputId": "ebb13614-a52e-42bb-bb91-3f0689375241"
      },
      "source": [
        "user_data_df.printSchema"
      ],
      "execution_count": 5,
      "outputs": [
        {
          "output_type": "execute_result",
          "data": {
            "text/plain": [
              "<bound method DataFrame.printSchema of DataFrame[marketplace\tcustomer_id\treview_id\tproduct_id\tproduct_parent\tproduct_title\tproduct_category\tstar_rating\thelpful_votes\ttotal_votes\tvine\tverified_purchase\treview_headline\treview_body\treview_date: string]>"
            ]
          },
          "metadata": {},
          "execution_count": 5
        }
      ]
    },
    {
      "cell_type": "code",
      "metadata": {
        "colab": {
          "base_uri": "https://localhost:8080/"
        },
        "id": "IxzmPTnwMwOq",
        "outputId": "80a72aed-7bc5-4dfa-fac1-196f22fd4596"
      },
      "source": [
        "dropna_df = user_data_df.na.drop(how=\"any\")\n",
        "dropna_df.show(truncate=False)"
      ],
      "execution_count": 6,
      "outputs": [
        {
          "output_type": "stream",
          "name": "stdout",
          "text": [
            "+----------------------------------------------------------------------------------------------------------------------------------------------------------------------------------------------------------------------------------------------------------------------------------------------------------------------------------------------------------------------------------------------------------------------------+\n",
            "|marketplace\tcustomer_id\treview_id\tproduct_id\tproduct_parent\tproduct_title\tproduct_category\tstar_rating\thelpful_votes\ttotal_votes\tvine\tverified_purchase\treview_headline\treview_body\treview_date                                                                                                                                                                                                                             |\n",
            "+----------------------------------------------------------------------------------------------------------------------------------------------------------------------------------------------------------------------------------------------------------------------------------------------------------------------------------------------------------------------------------------------------------------------------+\n",
            "|US\t16414143\tR3W4P9UBGNGH1U\tB00YL0EKWE\t852431543\tLG G4 Case Hard Transparent Slim Clear Cover for LG G4\tWireless\t2\t1\t3\tN\tY\tLooks good                                                                                                                                                                                                                                                                                        |\n",
            "|US\t50800750\tR15V54KBMTQWAY\tB00XK95RPQ\t516894650\tSelfie Stick Fiblastiq&trade; Extendable Wireless Bluetooth Selfie Stick with built-in Bluetooth Adjustable Phone Holder\tWireless\t4\t0\t0\tN\tN\tA fun little gadget\tI’m embarrassed to admit that until recently                                                                                                                                                                |\n",
            "|US\t15184378\tRY8I449HNXSVF\tB00SXRXUKO\t984297154\tTribe AB40 Water Resistant Sports Armband with Key Holder for 4.7-Inch iPhone 6S/6/5/5S/5C                                                                                                                                                                                                                                                                                   |\n",
            "|US\t10203548\tR18TLJYCKJFLSR\tB009V5X1CE\t279912704\tRAVPower® Element 10400mAh External Battery USB Portable Charger (Dual USB Outputs                                                                                                                                                                                                                                                                                          |\n",
            "|US\t488280\tR1NK26SWS53B8Q\tB00D93OVF0\t662791300\tFosmon Micro USB Value Pack Bundle for Samsung Galaxy Exhilarate - Includes Home / Travel Charger                                                                                                                                                                                                                                                                             |\n",
            "|US\t13334021\tR11LOHEDYJALTN\tB00XVGJMDQ\t421688488\tiPhone 6 Case                                                                                                                                                                                                                                                                                                                                                               |\n",
            "|US\t27520697\tR3ALQVQB2P9LA7\tB00KQW1X1C\t554285554\tNokia Lumia 630 RM-978 White Factory Unlocked - International Version No Warranty\tWireless\t4\t0\t0\tN\tY\tFour Stars\tEasy to set up and use. Great functions for the price\t2015-08-31                                                                                                                                                                                            |\n",
            "|US\t48086021\tR3MWLXLNO21PDQ\tB00IP1MQNK\t488006702\tLumsing 10400mah external battery\tWireless\t5\t0\t0\tN\tY\tFive Stars\tWorks great\t2015-08-31                                                                                                                                                                                                                                                                                      |\n",
            "|US\t12738196\tR2L15IS24CX0LI\tB00HVORET8\t389677711\tiPhone 5S Battery Case - iPhone 5 Battery Case                                                                                                                                                                                                                                                                                                                              |\n",
            "|US\t15867807\tR1DJ8976WPWVZU\tB00HX3G6J6\t299654876\tHTC One M8 Screen Protector                                                                                                                                                                                                                                                                                                                                                 |\n",
            "|US\t1972249\tR3MRWNNR8CBTB7\tB00U4NATNQ\t577878727\tS6 Case - Bear Motion for Galaxy S6 - Premium Back Cover for Samsung Galaxy S6 - Sand (Black)\tWireless\t5\t0\t0\tN\tY\tSuper thin                                                                                                                                                                                                                                                  |\n",
            "|US\t10956619\tR1DS6DKTUXAQK3\tB00SZEFDH8\t654620704\tBLU Studio X                                                                                                                                                                                                                                                                                                                                                                |\n",
            "|US\t14805911\tRWJM5E0TWUJD2\tB00JRJUL9U\t391166958\tEZOPower 5-Port Usb Car Charger with 3-Feet Extension Cord                                                                                                                                                                                                                                                                                                                   |\n",
            "|US\t15611116\tR1XTJKDYNCRGAC\tB00KQ4T0HE\t481551630\tiPhone 6S Case &iPhone 6 Case Perfect designed 3D Phone cover for i6/6s Cute bulldog Colourful case for iphone6/6s-PC case\tWireless\t1\t0\t0\tN\tY\tVery cheap case. This not protect anything. Very ...\tVery cheap case. This not protect anything. Very fragil.!! After i got it I went to buy a otter case expensive but worth it.\t2015-08-31                                  |\n",
            "|US\t39298603\tR2UZL3DPWEU1XW\tB00M0YWKPM\t685107474\tiPhone 6s Plus Case\tWireless\t5\t0\t0\tN\tY\tFive Stars\tson loves it.\t2015-08-31                                                                                                                                                                                                                                                                                                  |\n",
            "|US\t17552454\tR2EZXET9KBFFU3\tB00KDZEE68\t148320945\tzBoost ZB575-A TRIO SOHO Tri Band AT&T 4G Cell Phone Signal Booster                                                                                                                                                                                                                                                                                                         |\n",
            "|US\t12218556\tR26VY1L1FD3LPU\tB00BJN45GM\t47788188\tOtterBox Defender Series Case for HTC One\tWireless\t5\t0\t0\tN\tY\tFive Stars\tAwesome                                                                                                                                                                                                                                                                                              |\n",
            "|US\t21872923\tR2SSA4NSFCV18T\tB00SA86SXW\t748759272\tAduro PowerUP 30W 4-Port (6A Total) PWC-4U Charging Station / USB Travel Wall Charger / USB Desktop Charger for iPhone                                                                                                                                                                                                                                                      |\n",
            "|US\t16264332\tR1G6333JHJNEUQ\tB00Q3I68TU\t974085141\tLilGadgets Connect+ Premium Volume Limited Wired Headphones with SharePort for Children / Kids\tWireless\t5\t0\t0\tN\tY\tGreat headphones for kids\tWe love these headphones. We had a pair each for our 2 and 4 year old. They loved them and thought it was great that they could share one device but each have their own set of headphones. Very comfortable as well.\t2015-08-31|\n",
            "|US\t6042304\tR2DRG0UZXJQ0PE\tB00TN4J1TA\t716174627\tAnker Aluminum Multi-Angle Universal Phone and Tablet Stand for iPhone                                                                                                                                                                                                                                                                                                       |\n",
            "+----------------------------------------------------------------------------------------------------------------------------------------------------------------------------------------------------------------------------------------------------------------------------------------------------------------------------------------------------------------------------------------------------------------------------+\n",
            "only showing top 20 rows\n",
            "\n"
          ]
        }
      ]
    },
    {
      "cell_type": "code",
      "metadata": {
        "id": "2Asu-tMsjxd8",
        "colab": {
          "base_uri": "https://localhost:8080/"
        },
        "outputId": "a2b56210-5230-4962-d66b-56137c8215ff"
      },
      "source": [
        "user_data_df.columns"
      ],
      "execution_count": 7,
      "outputs": [
        {
          "output_type": "execute_result",
          "data": {
            "text/plain": [
              "['marketplace\\tcustomer_id\\treview_id\\tproduct_id\\tproduct_parent\\tproduct_title\\tproduct_category\\tstar_rating\\thelpful_votes\\ttotal_votes\\tvine\\tverified_purchase\\treview_headline\\treview_body\\treview_date']"
            ]
          },
          "metadata": {},
          "execution_count": 7
        }
      ]
    },
    {
      "cell_type": "code",
      "metadata": {
        "colab": {
          "base_uri": "https://localhost:8080/"
        },
        "id": "ZQkohtu8sRl-",
        "outputId": "c0b36546-2261-44f8-f9db-446a78a3ffba"
      },
      "source": [
        "user_data_df.describe"
      ],
      "execution_count": 8,
      "outputs": [
        {
          "output_type": "execute_result",
          "data": {
            "text/plain": [
              "<bound method DataFrame.describe of DataFrame[marketplace\tcustomer_id\treview_id\tproduct_id\tproduct_parent\tproduct_title\tproduct_category\tstar_rating\thelpful_votes\ttotal_votes\tvine\tverified_purchase\treview_headline\treview_body\treview_date: string]>"
            ]
          },
          "metadata": {},
          "execution_count": 8
        }
      ]
    },
    {
      "cell_type": "code",
      "metadata": {
        "id": "W_ASmm_bsRvu"
      },
      "source": [
        "# Cast Data to new data types\n",
        "from pyspark.sql.types import StructField, StringType, IntegerType, StructType"
      ],
      "execution_count": 9,
      "outputs": []
    },
    {
      "cell_type": "code",
      "metadata": {
        "id": "46oqUa09sRzU"
      },
      "source": [
        "# Next we need to create the list of struct fields\n",
        "schema = [StructField(\"review_id\", StringType(), True), StructField(\"customer_id\", IntegerType(), True), StructField(\"product_id\", StringType(), True), StructField(\"product_parent\", IntegerType(), True)]"
      ],
      "execution_count": 16,
      "outputs": []
    },
    {
      "cell_type": "code",
      "metadata": {
        "colab": {
          "base_uri": "https://localhost:8080/"
        },
        "id": "_YI8jZslKmtf",
        "outputId": "2b16adba-c06c-4746-8871-9822604d6e37"
      },
      "source": [
        "# Pass in our fields\n",
        "final = StructType(fields=schema)\n",
        "final"
      ],
      "execution_count": 18,
      "outputs": [
        {
          "output_type": "execute_result",
          "data": {
            "text/plain": [
              "StructType(List(StructField(review_id,StringType,true),StructField(customer_id,IntegerType,true),StructField(product_id,StringType,true),StructField(product_parent,IntegerType,true)))"
            ]
          },
          "metadata": {},
          "execution_count": 18
        }
      ]
    },
    {
      "cell_type": "code",
      "metadata": {
        "colab": {
          "base_uri": "https://localhost:8080/"
        },
        "id": "KXhibNkjKmxk",
        "outputId": "5b743078-5c4f-495d-a6e0-97d2405d87ae"
      },
      "source": [
        "# Read our data with our new schema\n",
        "dataframe = spark.read.csv(SparkFiles.get(\"amazon_reviews_us_Wireless_v1_00.tsv.gz\"), schema=final, sep=\",\", header=True)\n",
        "dataframe.show()\n"
      ],
      "execution_count": 19,
      "outputs": [
        {
          "output_type": "stream",
          "name": "stdout",
          "text": [
            "+--------------------+-----------+--------------------+--------------+\n",
            "|           review_id|customer_id|          product_id|product_parent|\n",
            "+--------------------+-----------+--------------------+--------------+\n",
            "|US\t16414143\tR3W4P...|       null|  my battery drai...|          null|\n",
            "|US\t50800750\tR15V5...|       null| they’re growing ...|          null|\n",
            "|US\t15184378\tRY8I4...|       null|                null|          null|\n",
            "|US\t10203548\tR18TL...|       null| Travel Charger f...|          null|\n",
            "|US\t488280\tR1NK26S...|       null|                null|          null|\n",
            "|US\t13334021\tR11LO...|       null| better customer ...|          null|\n",
            "|US\t27520697\tR3ALQ...|       null|                null|          null|\n",
            "|US\t48086021\tR3MWL...|       null|                null|          null|\n",
            "|US\t12738196\tR2L15...|       null|                null|          null|\n",
            "|US\t15867807\tR1DJ8...|       null| you hardly need ...|          null|\n",
            "|US\t1972249\tR3MRWN...|       null|         lightweight|          null|\n",
            "|US\t10956619\tR1DS6...|       null| in my opinion.\t2...|          null|\n",
            "|US\t14805911\tRWJM5...|       null|            40-Watts|          null|\n",
            "|US\t15611116\tR1XTJ...|       null|                null|          null|\n",
            "|US\t39298603\tR2UZL...|       null|                null|          null|\n",
            "|US\t17552454\tR2EZX...|       null|500 sq. ft.\tWirel...|          null|\n",
            "|US\t12218556\tR26VY...|       null|                null|          null|\n",
            "|US\t21872923\tR2SSA...|       null|      Samsung Galaxy|          null|\n",
            "|US\t16264332\tR1G63...|       null|                null|          null|\n",
            "|US\t6042304\tR2DRG0...|       null|      Samsung Galaxy|          null|\n",
            "+--------------------+-----------+--------------------+--------------+\n",
            "only showing top 20 rows\n",
            "\n"
          ]
        }
      ]
    },
    {
      "cell_type": "code",
      "metadata": {
        "colab": {
          "base_uri": "https://localhost:8080/"
        },
        "id": "gh4gdI4YKm9C",
        "outputId": "a28ad280-d5e2-456a-a7c9-86586fe673b0"
      },
      "source": [
        "dataframe.printSchema()"
      ],
      "execution_count": 20,
      "outputs": [
        {
          "output_type": "stream",
          "name": "stdout",
          "text": [
            "root\n",
            " |-- review_id: string (nullable = true)\n",
            " |-- customer_id: integer (nullable = true)\n",
            " |-- product_id: string (nullable = true)\n",
            " |-- product_parent: integer (nullable = true)\n",
            "\n"
          ]
        }
      ]
    },
    {
      "cell_type": "code",
      "metadata": {
        "colab": {
          "base_uri": "https://localhost:8080/"
        },
        "id": "rfkV4ccEPo-K",
        "outputId": "3911397f-93b3-4b77-f6e3-0d64f39cc1d1"
      },
      "source": [
        "dataframe.select('review_id')"
      ],
      "execution_count": 21,
      "outputs": [
        {
          "output_type": "execute_result",
          "data": {
            "text/plain": [
              "DataFrame[review_id: string]"
            ]
          },
          "metadata": {},
          "execution_count": 21
        }
      ]
    },
    {
      "cell_type": "code",
      "metadata": {
        "colab": {
          "base_uri": "https://localhost:8080/"
        },
        "id": "peQ-7mNKPpCM",
        "outputId": "0410937b-6840-4ef8-ac9e-6819ec718ab9"
      },
      "source": [
        "type(dataframe.select('review_id'))"
      ],
      "execution_count": 22,
      "outputs": [
        {
          "output_type": "execute_result",
          "data": {
            "text/plain": [
              "pyspark.sql.dataframe.DataFrame"
            ]
          },
          "metadata": {},
          "execution_count": 22
        }
      ]
    },
    {
      "cell_type": "code",
      "metadata": {
        "colab": {
          "base_uri": "https://localhost:8080/"
        },
        "id": "vQlcSkxEX3Kc",
        "outputId": "eae47f58-db4c-44f8-9f88-11d8fa1319b8"
      },
      "source": [
        "dataframe.select('review_id').show()"
      ],
      "execution_count": 23,
      "outputs": [
        {
          "output_type": "stream",
          "name": "stdout",
          "text": [
            "+--------------------+\n",
            "|           review_id|\n",
            "+--------------------+\n",
            "|US\t16414143\tR3W4P...|\n",
            "|US\t50800750\tR15V5...|\n",
            "|US\t15184378\tRY8I4...|\n",
            "|US\t10203548\tR18TL...|\n",
            "|US\t488280\tR1NK26S...|\n",
            "|US\t13334021\tR11LO...|\n",
            "|US\t27520697\tR3ALQ...|\n",
            "|US\t48086021\tR3MWL...|\n",
            "|US\t12738196\tR2L15...|\n",
            "|US\t15867807\tR1DJ8...|\n",
            "|US\t1972249\tR3MRWN...|\n",
            "|US\t10956619\tR1DS6...|\n",
            "|US\t14805911\tRWJM5...|\n",
            "|US\t15611116\tR1XTJ...|\n",
            "|US\t39298603\tR2UZL...|\n",
            "|US\t17552454\tR2EZX...|\n",
            "|US\t12218556\tR26VY...|\n",
            "|US\t21872923\tR2SSA...|\n",
            "|US\t16264332\tR1G63...|\n",
            "|US\t6042304\tR2DRG0...|\n",
            "+--------------------+\n",
            "only showing top 20 rows\n",
            "\n"
          ]
        }
      ]
    },
    {
      "cell_type": "code",
      "metadata": {
        "colab": {
          "base_uri": "https://localhost:8080/"
        },
        "id": "h4whqBb4X3d6",
        "outputId": "572dfe87-9f8a-4871-e315-e91318c466b1"
      },
      "source": [
        "# Remove leading and trailing space of the column in pyspark\n",
        "\n",
        "from pyspark.sql.functions import *\n",
        "\n",
        "dataframe = dataframe.withColumn('customer_id', trim(dataframe.customer_id))\n",
        "\n",
        "dataframe.show(truncate =False)\n"
      ],
      "execution_count": 24,
      "outputs": [
        {
          "output_type": "stream",
          "name": "stdout",
          "text": [
            "+----------------------------------------------------------------------------------------------------------------------------------------------------------------------------------------------------------------------------------------------------------------------------------------------------------------------------------------------------------------------------------------------------------------------------+-----------+------------------------------------------------------------------------------------------------------------------------------------------------------------------------------------------------------------------------------------------------------------------------------------------------------------------------+--------------+\n",
            "|review_id                                                                                                                                                                                                                                                                                                                                                                                                                   |customer_id|product_id                                                                                                                                                                                                                                                                                                              |product_parent|\n",
            "+----------------------------------------------------------------------------------------------------------------------------------------------------------------------------------------------------------------------------------------------------------------------------------------------------------------------------------------------------------------------------------------------------------------------------+-----------+------------------------------------------------------------------------------------------------------------------------------------------------------------------------------------------------------------------------------------------------------------------------------------------------------------------------+--------------+\n",
            "|US\t16414143\tR3W4P9UBGNGH1U\tB00YL0EKWE\t852431543\tLG G4 Case Hard Transparent Slim Clear Cover for LG G4\tWireless\t2\t1\t3\tN\tY\tLooks good                                                                                                                                                                                                                                                                                        |null       |  my battery drained twice as fast as usual.  I ended up turning off the circle apps                                                                                                                                                                                                                                    |null          |\n",
            "|US\t50800750\tR15V54KBMTQWAY\tB00XK95RPQ\t516894650\tSelfie Stick Fiblastiq&trade; Extendable Wireless Bluetooth Selfie Stick with built-in Bluetooth Adjustable Phone Holder\tWireless\t4\t0\t0\tN\tN\tA fun little gadget\tI’m embarrassed to admit that until recently                                                                                                                                                                |null       | they’re growing on me. This one is pretty nice and simple to set up and with easy instructions illustrated on the back of the box (not sure why some reviewers have stated that there are no instructions when they are clearly printed on the box unless they received different packaging than I did). Once assembled|null          |\n",
            "|US\t15184378\tRY8I449HNXSVF\tB00SXRXUKO\t984297154\tTribe AB40 Water Resistant Sports Armband with Key Holder for 4.7-Inch iPhone 6S/6/5/5S/5C                                                                                                                                                                                                                                                                                   |null       |null                                                                                                                                                                                                                                                                                                                    |null          |\n",
            "|US\t10203548\tR18TLJYCKJFLSR\tB009V5X1CE\t279912704\tRAVPower® Element 10400mAh External Battery USB Portable Charger (Dual USB Outputs                                                                                                                                                                                                                                                                                          |null       | Travel Charger for iPhone 6                                                                                                                                                                                                                                                                                            |null          |\n",
            "|US\t488280\tR1NK26SWS53B8Q\tB00D93OVF0\t662791300\tFosmon Micro USB Value Pack Bundle for Samsung Galaxy Exhilarate - Includes Home / Travel Charger                                                                                                                                                                                                                                                                             |null       |null                                                                                                                                                                                                                                                                                                                    |null          |\n",
            "|US\t13334021\tR11LOHEDYJALTN\tB00XVGJMDQ\t421688488\tiPhone 6 Case                                                                                                                                                                                                                                                                                                                                                               |null       | better customer service!\t2015-08-31                                                                                                                                                                                                                                                                                    |null          |\n",
            "|US\t27520697\tR3ALQVQB2P9LA7\tB00KQW1X1C\t554285554\tNokia Lumia 630 RM-978 White Factory Unlocked - International Version No Warranty\tWireless\t4\t0\t0\tN\tY\tFour Stars\tEasy to set up and use. Great functions for the price\t2015-08-31                                                                                                                                                                                            |null       |null                                                                                                                                                                                                                                                                                                                    |null          |\n",
            "|US\t48086021\tR3MWLXLNO21PDQ\tB00IP1MQNK\t488006702\tLumsing 10400mah external battery\tWireless\t5\t0\t0\tN\tY\tFive Stars\tWorks great\t2015-08-31                                                                                                                                                                                                                                                                                      |null       |null                                                                                                                                                                                                                                                                                                                    |null          |\n",
            "|US\t12738196\tR2L15IS24CX0LI\tB00HVORET8\t389677711\tiPhone 5S Battery Case - iPhone 5 Battery Case                                                                                                                                                                                                                                                                                                                              |null       |null                                                                                                                                                                                                                                                                                                                    |null          |\n",
            "|US\t15867807\tR1DJ8976WPWVZU\tB00HX3G6J6\t299654876\tHTC One M8 Screen Protector                                                                                                                                                                                                                                                                                                                                                 |null       | you hardly need screen protectors anyway.\t2015-08-31                                                                                                                                                                                                                                                                   |null          |\n",
            "|US\t1972249\tR3MRWNNR8CBTB7\tB00U4NATNQ\t577878727\tS6 Case - Bear Motion for Galaxy S6 - Premium Back Cover for Samsung Galaxy S6 - Sand (Black)\tWireless\t5\t0\t0\tN\tY\tSuper thin                                                                                                                                                                                                                                                  |null       | lightweight                                                                                                                                                                                                                                                                                                            |null          |\n",
            "|US\t10956619\tR1DS6DKTUXAQK3\tB00SZEFDH8\t654620704\tBLU Studio X                                                                                                                                                                                                                                                                                                                                                                |null       | in my opinion.\t2015-08-31                                                                                                                                                                                                                                                                                              |null          |\n",
            "|US\t14805911\tRWJM5E0TWUJD2\tB00JRJUL9U\t391166958\tEZOPower 5-Port Usb Car Charger with 3-Feet Extension Cord                                                                                                                                                                                                                                                                                                                   |null       | 40-Watts                                                                                                                                                                                                                                                                                                               |null          |\n",
            "|US\t15611116\tR1XTJKDYNCRGAC\tB00KQ4T0HE\t481551630\tiPhone 6S Case &iPhone 6 Case Perfect designed 3D Phone cover for i6/6s Cute bulldog Colourful case for iphone6/6s-PC case\tWireless\t1\t0\t0\tN\tY\tVery cheap case. This not protect anything. Very ...\tVery cheap case. This not protect anything. Very fragil.!! After i got it I went to buy a otter case expensive but worth it.\t2015-08-31                                  |null       |null                                                                                                                                                                                                                                                                                                                    |null          |\n",
            "|US\t39298603\tR2UZL3DPWEU1XW\tB00M0YWKPM\t685107474\tiPhone 6s Plus Case\tWireless\t5\t0\t0\tN\tY\tFive Stars\tson loves it.\t2015-08-31                                                                                                                                                                                                                                                                                                  |null       |null                                                                                                                                                                                                                                                                                                                    |null          |\n",
            "|US\t17552454\tR2EZXET9KBFFU3\tB00KDZEE68\t148320945\tzBoost ZB575-A TRIO SOHO Tri Band AT&T 4G Cell Phone Signal Booster                                                                                                                                                                                                                                                                                                         |null       |500 sq. ft.\tWireless\t1\t0\t0\tN\tY\tOne Star\tyou have to turn power off to this unit once or twice a day to keep it working\t2015-08-31                                                                                                                                                                                       |null          |\n",
            "|US\t12218556\tR26VY1L1FD3LPU\tB00BJN45GM\t47788188\tOtterBox Defender Series Case for HTC One\tWireless\t5\t0\t0\tN\tY\tFive Stars\tAwesome                                                                                                                                                                                                                                                                                              |null       |null                                                                                                                                                                                                                                                                                                                    |null          |\n",
            "|US\t21872923\tR2SSA4NSFCV18T\tB00SA86SXW\t748759272\tAduro PowerUP 30W 4-Port (6A Total) PWC-4U Charging Station / USB Travel Wall Charger / USB Desktop Charger for iPhone                                                                                                                                                                                                                                                      |null       | Samsung Galaxy                                                                                                                                                                                                                                                                                                         |null          |\n",
            "|US\t16264332\tR1G6333JHJNEUQ\tB00Q3I68TU\t974085141\tLilGadgets Connect+ Premium Volume Limited Wired Headphones with SharePort for Children / Kids\tWireless\t5\t0\t0\tN\tY\tGreat headphones for kids\tWe love these headphones. We had a pair each for our 2 and 4 year old. They loved them and thought it was great that they could share one device but each have their own set of headphones. Very comfortable as well.\t2015-08-31|null       |null                                                                                                                                                                                                                                                                                                                    |null          |\n",
            "|US\t6042304\tR2DRG0UZXJQ0PE\tB00TN4J1TA\t716174627\tAnker Aluminum Multi-Angle Universal Phone and Tablet Stand for iPhone                                                                                                                                                                                                                                                                                                       |null       | Samsung Galaxy                                                                                                                                                                                                                                                                                                         |null          |\n",
            "+----------------------------------------------------------------------------------------------------------------------------------------------------------------------------------------------------------------------------------------------------------------------------------------------------------------------------------------------------------------------------------------------------------------------------+-----------+------------------------------------------------------------------------------------------------------------------------------------------------------------------------------------------------------------------------------------------------------------------------------------------------------------------------+--------------+\n",
            "only showing top 20 rows\n",
            "\n"
          ]
        }
      ]
    }
  ]
}