{
  "nbformat": 4,
  "nbformat_minor": 0,
  "metadata": {
    "colab": {
      "name": "level2_etl.ipynb",
      "provenance": []
    },
    "kernelspec": {
      "name": "python3",
      "display_name": "Python 3"
    },
    "language_info": {
      "name": "python"
    }
  },
  "cells": [
    {
      "cell_type": "code",
      "metadata": {
        "id": "Ec6wOGG9D-dK",
        "colab": {
          "base_uri": "https://localhost:8080/"
        },
        "outputId": "63b45966-a828-4af9-8a0f-82d96dd26687"
      },
      "source": [
        "import os\n",
        "# Find the latest version of spark 3.0  from http://www.apache.org/dist/spark/ and enter as the spark version\n",
        "# For example:\n",
        "# spark_version = 'spark-3.0.3'\n",
        "spark_version = 'spark-3.0.3'\n",
        "os.environ['SPARK_VERSION']=spark_version\n",
        "\n",
        "# Install Spark and Java\n",
        "!apt-get update\n",
        "!apt-get install openjdk-11-jdk-headless -qq > /dev/null\n",
        "!wget -q http://www.apache.org/dist/spark/$SPARK_VERSION/$SPARK_VERSION-bin-hadoop2.7.tgz\n",
        "!tar xf $SPARK_VERSION-bin-hadoop2.7.tgz\n",
        "!pip install -q findspark\n",
        "\n",
        "# Set Environment Variables\n",
        "os.environ[\"JAVA_HOME\"] = \"/usr/lib/jvm/java-11-openjdk-amd64\"\n",
        "os.environ[\"SPARK_HOME\"] = f\"/content/{spark_version}-bin-hadoop2.7\"\n",
        "\n",
        "# Start a SparkSession\n",
        "import findspark\n",
        "findspark.init()"
      ],
      "execution_count": 1,
      "outputs": [
        {
          "output_type": "stream",
          "name": "stdout",
          "text": [
            "Get:1 https://cloud.r-project.org/bin/linux/ubuntu bionic-cran40/ InRelease [3,626 B]\n",
            "Ign:2 https://developer.download.nvidia.com/compute/cuda/repos/ubuntu1804/x86_64  InRelease\n",
            "Get:3 http://security.ubuntu.com/ubuntu bionic-security InRelease [88.7 kB]\n",
            "Ign:4 https://developer.download.nvidia.com/compute/machine-learning/repos/ubuntu1804/x86_64  InRelease\n",
            "Get:5 http://ppa.launchpad.net/c2d4u.team/c2d4u4.0+/ubuntu bionic InRelease [15.9 kB]\n",
            "Hit:6 https://developer.download.nvidia.com/compute/cuda/repos/ubuntu1804/x86_64  Release\n",
            "Hit:7 https://developer.download.nvidia.com/compute/machine-learning/repos/ubuntu1804/x86_64  Release\n",
            "Get:8 https://cloud.r-project.org/bin/linux/ubuntu bionic-cran40/ Packages [67.4 kB]\n",
            "Hit:9 http://archive.ubuntu.com/ubuntu bionic InRelease\n",
            "Get:10 http://archive.ubuntu.com/ubuntu bionic-updates InRelease [88.7 kB]\n",
            "Hit:12 http://ppa.launchpad.net/cran/libgit2/ubuntu bionic InRelease\n",
            "Hit:14 http://ppa.launchpad.net/deadsnakes/ppa/ubuntu bionic InRelease\n",
            "Get:15 http://archive.ubuntu.com/ubuntu bionic-backports InRelease [74.6 kB]\n",
            "Hit:16 http://ppa.launchpad.net/graphics-drivers/ppa/ubuntu bionic InRelease\n",
            "Get:17 http://security.ubuntu.com/ubuntu bionic-security/universe amd64 Packages [1,428 kB]\n",
            "Get:18 http://ppa.launchpad.net/c2d4u.team/c2d4u4.0+/ubuntu bionic/main Sources [1,802 kB]\n",
            "Get:19 http://security.ubuntu.com/ubuntu bionic-security/restricted amd64 Packages [581 kB]\n",
            "Get:20 http://security.ubuntu.com/ubuntu bionic-security/main amd64 Packages [2,335 kB]\n",
            "Get:21 http://archive.ubuntu.com/ubuntu bionic-updates/universe amd64 Packages [2,202 kB]\n",
            "Get:22 http://ppa.launchpad.net/c2d4u.team/c2d4u4.0+/ubuntu bionic/main amd64 Packages [922 kB]\n",
            "Get:23 http://archive.ubuntu.com/ubuntu bionic-updates/main amd64 Packages [2,770 kB]\n",
            "Get:24 http://archive.ubuntu.com/ubuntu bionic-updates/restricted amd64 Packages [613 kB]\n",
            "Fetched 13.0 MB in 6s (2,109 kB/s)\n",
            "Reading package lists... Done\n"
          ]
        }
      ]
    },
    {
      "cell_type": "code",
      "metadata": {
        "id": "Qob0Y89Dj_ie",
        "colab": {
          "base_uri": "https://localhost:8080/"
        },
        "outputId": "c08a3acf-a3e7-4e26-f40b-da129c85903e"
      },
      "source": [
        "!wget https://jdbc.postgresql.org/download/postgresql-42.2.9.jar"
      ],
      "execution_count": 2,
      "outputs": [
        {
          "output_type": "stream",
          "name": "stdout",
          "text": [
            "--2021-09-23 15:11:56--  https://jdbc.postgresql.org/download/postgresql-42.2.9.jar\n",
            "Resolving jdbc.postgresql.org (jdbc.postgresql.org)... 72.32.157.228, 2001:4800:3e1:1::228\n",
            "Connecting to jdbc.postgresql.org (jdbc.postgresql.org)|72.32.157.228|:443... connected.\n",
            "HTTP request sent, awaiting response... 200 OK\n",
            "Length: 914037 (893K) [application/java-archive]\n",
            "Saving to: ‘postgresql-42.2.9.jar’\n",
            "\n",
            "postgresql-42.2.9.j 100%[===================>] 892.61K   519KB/s    in 1.7s    \n",
            "\n",
            "2021-09-23 15:11:59 (519 KB/s) - ‘postgresql-42.2.9.jar’ saved [914037/914037]\n",
            "\n"
          ]
        }
      ]
    },
    {
      "cell_type": "code",
      "metadata": {
        "id": "LMw-l1FbiKr4"
      },
      "source": [
        "from pyspark.sql import SparkSession\n",
        "spark = SparkSession.builder.appName(\"CloudETL\").config(\"spark.driver.extraClassPath\",\"/content/postgresql-42.2.9.jar\").getOrCreate()"
      ],
      "execution_count": 3,
      "outputs": []
    },
    {
      "cell_type": "code",
      "metadata": {
        "id": "vnJF_HsGiK26",
        "colab": {
          "base_uri": "https://localhost:8080/"
        },
        "outputId": "5413f969-0e6f-466d-92be-f707d7f33c8f"
      },
      "source": [
        "# Read in data from S3 Buckets\n",
        "from pyspark import SparkFiles\n",
        "url=\"https://s3.amazonaws.com/amazon-reviews-pds/tsv/amazon_reviews_us_Watches_v1_00.tsv.gz\"\n",
        "spark.sparkContext.addFile(url)\n",
        "user_data_df = spark.read.option('header', 'true').csv(SparkFiles.get(\"amazon_reviews_us_Watches_v1_00.tsv.gz\"), sep=\"\\t\", timestampFormat=\"mm/dd/yy\", inferSchema=True)\n",
        "\n",
        "# Show DataFrame\n",
        "user_data_df.show(truncate=False)"
      ],
      "execution_count": 4,
      "outputs": [
        {
          "output_type": "stream",
          "name": "stdout",
          "text": [
            "+-----------+-----------+--------------+----------+--------------+----------------------------------------------------------------------------------------------------+----------------+-----------+-------------+-----------+----+-----------------+----------------------------------------------------------+--------------------------------------------------------------------------------------------------------------------------------------------------------------------------------------------------------------------------------------------------------------------------------------------------------------------------------------------------------------------------------------------------------------------------------------------------------------------------------------------------------------------------------------------------------------------------------------+-----------+\n",
            "|marketplace|customer_id|review_id     |product_id|product_parent|product_title                                                                                       |product_category|star_rating|helpful_votes|total_votes|vine|verified_purchase|review_headline                                           |review_body                                                                                                                                                                                                                                                                                                                                                                                                                                                                                                                                                                           |review_date|\n",
            "+-----------+-----------+--------------+----------+--------------+----------------------------------------------------------------------------------------------------+----------------+-----------+-------------+-----------+----+-----------------+----------------------------------------------------------+--------------------------------------------------------------------------------------------------------------------------------------------------------------------------------------------------------------------------------------------------------------------------------------------------------------------------------------------------------------------------------------------------------------------------------------------------------------------------------------------------------------------------------------------------------------------------------------+-----------+\n",
            "|US         |3653882    |R3O9SGZBVQBV76|B00FALQ1ZC|937001370     |Invicta Women's 15150 \"Angel\" 18k Yellow Gold Ion-Plated Stainless Steel and Brown Leather Watch    |Watches         |5          |0            |0          |N   |Y                |Five Stars                                                |Absolutely love this watch! Get compliments almost every time I wear it. Dainty.                                                                                                                                                                                                                                                                                                                                                                                                                                                                                                      |2015-08-31 |\n",
            "|US         |14661224   |RKH8BNC3L5DLF |B00D3RGO20|484010722     |Kenneth Cole New York Women's KC4944 Automatic Silver Automatic Mesh Bracelet Analog Watch          |Watches         |5          |0            |0          |N   |Y                |I love thiswatch it keeps time wonderfully                |I love this watch it keeps time wonderfully.                                                                                                                                                                                                                                                                                                                                                                                                                                                                                                                                          |2015-08-31 |\n",
            "|US         |27324930   |R2HLE8WKZSU3NL|B00DKYC7TK|361166390     |Ritche 22mm Black Stainless Steel Bracelet Watch Band Strap Pebble Time/Pebble Classic              |Watches         |2          |1            |1          |N   |Y                |Two Stars                                                 |Scratches                                                                                                                                                                                                                                                                                                                                                                                                                                                                                                                                                                             |2015-08-31 |\n",
            "|US         |7211452    |R31U3UH5AZ42LL|B000EQS1JW|958035625     |Citizen Men's BM8180-03E Eco-Drive Stainless Steel Watch with Green Canvas Band                     |Watches         |5          |0            |0          |N   |Y                |Five Stars                                                |It works well on me. However, I found cheaper prices in other places after making the purchase                                                                                                                                                                                                                                                                                                                                                                                                                                                                                        |2015-08-31 |\n",
            "|US         |12733322   |R2SV659OUJ945Y|B00A6GFD7S|765328221     |Orient ER27009B Men's Symphony Automatic Stainless Steel Black Dial Mechanical Watch                |Watches         |4          |0            |0          |N   |Y                |Beautiful face, but cheap sounding links                  |Beautiful watch face.  The band looks nice all around.  The links do make that squeaky cheapo noise when you swing it back and forth on your wrist which can be embarrassing in front of watch enthusiasts.  However, to the naked eye from afar, you can't tell the links are cheap or folded because it is well polished and brushed and the folds are pretty tight for the most part.<br /><br />I love the new member of my collection and it looks great.  I've had it for about a week and so far it has kept good time despite day 1 which is typical of a new mechanical watch|2015-08-31 |\n",
            "|US         |6576411    |RA51CP8TR5A2L |B00EYSOSE8|230493695     |Casio Men's GW-9400BJ-1JF G-Shock Master of G Rangeman Digital Solar Black Carbon Fiber Insert Watch|Watches         |5          |0            |0          |N   |Y                |No complaints                                             |i love this watch for my purpose, about the people complaining should of done their research better before buying. dumb people.                                                                                                                                                                                                                                                                                                                                                                                                                                                       |2015-08-31 |\n",
            "|US         |11811565   |RB2Q7DLDN6TH6 |B00WM0QA3M|549298279     |Fossil Women's ES3851 Urban Traveler Multifunction Stainless Steel Watch - Rose                     |Watches         |5          |1            |1          |N   |Y                |Five Stars                                                |for my wife and she loved it, looks great and a great price!                                                                                                                                                                                                                                                                                                                                                                                                                                                                                                                          |2015-08-31 |\n",
            "|US         |49401598   |R2RHFJV0UYBK3Y|B00A4EYBR0|844009113     |INFANTRY Mens Night Vision Analog Quartz Wrist Watch with Nato Nylon Watchband-Red.                 |Watches         |1          |1            |5          |N   |N                |I was about to buy this thinking it was a ...             |I was about to buy this thinking it was a Swiss Army Infantry watch-- the description uses the words infantry and army--- when I realized it must be a fraud for $12.00. This should not be offered on Amazon-- it is designed to confuse consumers.                                                                                                                                                                                                                                                                                                                                  |2015-08-31 |\n",
            "|US         |45925069   |R2Z6JOQ94LFHEP|B00MAMPGGE|263720892     |G-Shock Men's Grey Sport Watch                                                                      |Watches         |5          |1            |2          |N   |Y                |Perfect watch!                                            |Watch is perfect. Rugged with the metal &#34;Bull Bars&#34;. The red accents are a great touch and I get compliments when wearing it. If you are worried about being able to read this in sunlight or in the dark don't! The LED ilumination works great! I might even get this in a different color for my next G-Shock purchase!                                                                                                                                                                                                                                                    |2015-08-31 |\n",
            "|US         |44751341   |RX27XIIWY5JPB |B004LBPB7Q|124278407     |Heiden Quad Watch Winder in Black Leather                                                           |Watches         |4          |0            |0          |N   |Y                |Great quality and build                                   |Great quality and build.<br />The motors are really silent.<br />After fiddling with the settings my watches are always charged and ready to use.                                                                                                                                                                                                                                                                                                                                                                                                                                     |2015-08-31 |\n",
            "|US         |9962330    |R15C7QEZT0LGZN|B00KGTVGKS|28017857      |Fossil Women's ES3621 Serena Crystal-Accented Two-Tone Stainless Steel Watch                        |Watches         |4          |2            |2          |N   |Y                |Satisfied                                                 |The watch was pretty much as it was described and how it looks. I really like the simplicity of it and it looks pretty amazing. It is slightly too big, so I have yet to adjust it, but I'm glad it's too big rather than too small. The weight is good which is what I was hoping for. Very satisfied with this purchase. I was slightly on the fence getting this one because of the previous fossil watch I had, which by some time, did have some gems fall off from ring around the numbers, but so far so good with this one! Excuse my bad lighting for my pic.                |2015-08-31 |\n",
            "|US         |16097204   |R361XSS37V0NCZ|B0039UT5OU|685450910     |Casio General Men's Watches Sporty Digital AE-2000W-1AVDF - WW                                      |Watches         |1          |0            |0          |N   |N                |I do not think this watch is a good product. Do not buy it|I bought this watch on 2013, the screen had a problem 10 months later. I sent the watch back to Casio Service Center in LA, they sent to me a replacement new watch. Last week, less than one year after I received the new watch, the battery is out.  I went to a shop to replace the battery. Then the A button of the watch do not working, so I could not change the time and other settings. I do not think this watch is a good product. Do not buy it.                                                                                                                        |2015-08-31 |\n",
            "|US         |51330346   |ROTNLALUAJAUB |B00MPF0XJQ|767769082     |2Tone Gold Silver Cable Band Ladies Bangle Cuff Watch                                               |Watches         |3          |0            |0          |N   |Y                |Three Stars                                               |It is a cheap watch that looks cheap.  There isn't much else to say.                                                                                                                                                                                                                                                                                                                                                                                                                                                                                                                  |2015-08-31 |\n",
            "|US         |4201739    |R2DYX7QU6BGOHR|B003P1OHHS|648595227     |Bulova Men's 98B143 Precisionist Charcoal Grey Dial Bracelet Watch                                  |Watches         |5          |0            |0          |N   |Y                |Five Stars                                                |Heavier than i though                                                                                                                                                                                                                                                                                                                                                                                                                                                                                                                                                                 |2015-08-31 |\n",
            "|US         |26339765   |RWASY7FKI7QOT |B00R70YEOE|457338020     |Casio - G-Shock - Gulfmaster - Black - GWN1000C-1A                                                  |Watches         |5          |2            |3          |N   |Y                |Worth it - love it                                        |Had it for several weeks now and I love it - reliable, functional, wears easy, not too heavy.  I also get a lot of comments on it - great watch!                                                                                                                                                                                                                                                                                                                                                                                                                                      |2015-08-31 |\n",
            "|US         |2692576    |R2KKYZIN3CCL21|B000FVE3BG|824370661     |Invicta Men's 3329 Force Collection Lefty Watch                                                     |Watches         |5          |0            |0          |N   |Y                |This is when different is good.                           |This one is different from the rest of my Invictas. I like the big watches but this one gave a classy more defined look for the craftsmanship. All of the colors compliment each other. It all starts from the stitching of the band.  Very nice watch.                                                                                                                                                                                                                                                                                                                               |2015-08-31 |\n",
            "|US         |44713366   |R22H4FGVD5O52O|B008X6JB12|814431355     |Seiko Women's SUT068 Dress Solar Classic Diamond-Accented Two-Tone Stainless Steel Watch            |Watches         |4          |1            |1          |N   |Y                |Thewatch is attractive and easy to read                   |The watch is attractive and easy to read, except for the date. The little diamonds are very, very tiny. All in all, I'm happy with it.                                                                                                                                                                                                                                                                                                                                                                                                                                                |2015-08-31 |\n",
            "|US         |32778769   |R11UACZERCM4ZY|B0040UOFPW|187700878     |Anne Klein Women's 109271MPTT Swarovski Crystal Accented Two-Tone Multi-Chain Bracelet Watch        |Watches         |5          |0            |0          |N   |Y                |Five Stars                                                |said my wife..                                                                                                                                                                                                                                                                                                                                                                                                                                                                                                                                                                        |2015-08-31 |\n",
            "|US         |27258523   |R1AT8NQ38UQOL6|B00UR2R5UY|594315262     |Guess U13630G1 Men's day and date Gunmetal dial Gunmetal tone bracelet                              |Watches         |5          |0            |0          |N   |Y                |Five Stars                                                |Nice watch, on time delivery from seller.                                                                                                                                                                                                                                                                                                                                                                                                                                                                                                                                             |2015-08-31 |\n",
            "|US         |42646538   |R2NCZRQGIF1Q75|B00HFF57L0|520810507     |Nixon Men's Geo Volt Sentry Stainless Steel Watch with Link Bracelet                                |Watches         |4          |0            |0          |N   |Y                |Very stylish                                              |Looks great and love to wear this watch.  Only negative thing is due to its blue/black colors, it is difficult to read in average or low light.  Good thing for me, I wear a watch for looks and not really for telling the time.                                                                                                                                                                                                                                                                                                                                                     |2015-08-31 |\n",
            "+-----------+-----------+--------------+----------+--------------+----------------------------------------------------------------------------------------------------+----------------+-----------+-------------+-----------+----+-----------------+----------------------------------------------------------+--------------------------------------------------------------------------------------------------------------------------------------------------------------------------------------------------------------------------------------------------------------------------------------------------------------------------------------------------------------------------------------------------------------------------------------------------------------------------------------------------------------------------------------------------------------------------------------+-----------+\n",
            "only showing top 20 rows\n",
            "\n"
          ]
        }
      ]
    },
    {
      "cell_type": "code",
      "metadata": {
        "colab": {
          "base_uri": "https://localhost:8080/"
        },
        "id": "9M3ERMNkL9ir",
        "outputId": "5f7628b5-8e6a-4212-f9d2-b31201f0d905"
      },
      "source": [
        "user_data_df.dtypes"
      ],
      "execution_count": 5,
      "outputs": [
        {
          "output_type": "execute_result",
          "data": {
            "text/plain": [
              "[('marketplace', 'string'),\n",
              " ('customer_id', 'int'),\n",
              " ('review_id', 'string'),\n",
              " ('product_id', 'string'),\n",
              " ('product_parent', 'int'),\n",
              " ('product_title', 'string'),\n",
              " ('product_category', 'string'),\n",
              " ('star_rating', 'int'),\n",
              " ('helpful_votes', 'int'),\n",
              " ('total_votes', 'int'),\n",
              " ('vine', 'string'),\n",
              " ('verified_purchase', 'string'),\n",
              " ('review_headline', 'string'),\n",
              " ('review_body', 'string'),\n",
              " ('review_date', 'string')]"
            ]
          },
          "metadata": {},
          "execution_count": 5
        }
      ]
    },
    {
      "cell_type": "code",
      "metadata": {
        "colab": {
          "base_uri": "https://localhost:8080/"
        },
        "id": "VPqQY6yOL9zH",
        "outputId": "4b5fab5e-1cf6-48a2-b92e-cd3f063a5724"
      },
      "source": [
        "user_data_df.printSchema"
      ],
      "execution_count": 6,
      "outputs": [
        {
          "output_type": "execute_result",
          "data": {
            "text/plain": [
              "<bound method DataFrame.printSchema of DataFrame[marketplace: string, customer_id: int, review_id: string, product_id: string, product_parent: int, product_title: string, product_category: string, star_rating: int, helpful_votes: int, total_votes: int, vine: string, verified_purchase: string, review_headline: string, review_body: string, review_date: string]>"
            ]
          },
          "metadata": {},
          "execution_count": 6
        }
      ]
    },
    {
      "cell_type": "code",
      "metadata": {
        "colab": {
          "base_uri": "https://localhost:8080/"
        },
        "id": "sNTiK2NWL95i",
        "outputId": "08d774d1-8442-4421-c857-eaf57daba029"
      },
      "source": [
        "dropna_df = user_data_df.na.drop(how=\"any\")\n",
        "dropna_df.show(truncate=False)"
      ],
      "execution_count": 7,
      "outputs": [
        {
          "output_type": "stream",
          "name": "stdout",
          "text": [
            "+-----------+-----------+--------------+----------+--------------+----------------------------------------------------------------------------------------------------+----------------+-----------+-------------+-----------+----+-----------------+----------------------------------------------------------+--------------------------------------------------------------------------------------------------------------------------------------------------------------------------------------------------------------------------------------------------------------------------------------------------------------------------------------------------------------------------------------------------------------------------------------------------------------------------------------------------------------------------------------------------------------------------------------+-----------+\n",
            "|marketplace|customer_id|review_id     |product_id|product_parent|product_title                                                                                       |product_category|star_rating|helpful_votes|total_votes|vine|verified_purchase|review_headline                                           |review_body                                                                                                                                                                                                                                                                                                                                                                                                                                                                                                                                                                           |review_date|\n",
            "+-----------+-----------+--------------+----------+--------------+----------------------------------------------------------------------------------------------------+----------------+-----------+-------------+-----------+----+-----------------+----------------------------------------------------------+--------------------------------------------------------------------------------------------------------------------------------------------------------------------------------------------------------------------------------------------------------------------------------------------------------------------------------------------------------------------------------------------------------------------------------------------------------------------------------------------------------------------------------------------------------------------------------------+-----------+\n",
            "|US         |3653882    |R3O9SGZBVQBV76|B00FALQ1ZC|937001370     |Invicta Women's 15150 \"Angel\" 18k Yellow Gold Ion-Plated Stainless Steel and Brown Leather Watch    |Watches         |5          |0            |0          |N   |Y                |Five Stars                                                |Absolutely love this watch! Get compliments almost every time I wear it. Dainty.                                                                                                                                                                                                                                                                                                                                                                                                                                                                                                      |2015-08-31 |\n",
            "|US         |14661224   |RKH8BNC3L5DLF |B00D3RGO20|484010722     |Kenneth Cole New York Women's KC4944 Automatic Silver Automatic Mesh Bracelet Analog Watch          |Watches         |5          |0            |0          |N   |Y                |I love thiswatch it keeps time wonderfully                |I love this watch it keeps time wonderfully.                                                                                                                                                                                                                                                                                                                                                                                                                                                                                                                                          |2015-08-31 |\n",
            "|US         |27324930   |R2HLE8WKZSU3NL|B00DKYC7TK|361166390     |Ritche 22mm Black Stainless Steel Bracelet Watch Band Strap Pebble Time/Pebble Classic              |Watches         |2          |1            |1          |N   |Y                |Two Stars                                                 |Scratches                                                                                                                                                                                                                                                                                                                                                                                                                                                                                                                                                                             |2015-08-31 |\n",
            "|US         |7211452    |R31U3UH5AZ42LL|B000EQS1JW|958035625     |Citizen Men's BM8180-03E Eco-Drive Stainless Steel Watch with Green Canvas Band                     |Watches         |5          |0            |0          |N   |Y                |Five Stars                                                |It works well on me. However, I found cheaper prices in other places after making the purchase                                                                                                                                                                                                                                                                                                                                                                                                                                                                                        |2015-08-31 |\n",
            "|US         |12733322   |R2SV659OUJ945Y|B00A6GFD7S|765328221     |Orient ER27009B Men's Symphony Automatic Stainless Steel Black Dial Mechanical Watch                |Watches         |4          |0            |0          |N   |Y                |Beautiful face, but cheap sounding links                  |Beautiful watch face.  The band looks nice all around.  The links do make that squeaky cheapo noise when you swing it back and forth on your wrist which can be embarrassing in front of watch enthusiasts.  However, to the naked eye from afar, you can't tell the links are cheap or folded because it is well polished and brushed and the folds are pretty tight for the most part.<br /><br />I love the new member of my collection and it looks great.  I've had it for about a week and so far it has kept good time despite day 1 which is typical of a new mechanical watch|2015-08-31 |\n",
            "|US         |6576411    |RA51CP8TR5A2L |B00EYSOSE8|230493695     |Casio Men's GW-9400BJ-1JF G-Shock Master of G Rangeman Digital Solar Black Carbon Fiber Insert Watch|Watches         |5          |0            |0          |N   |Y                |No complaints                                             |i love this watch for my purpose, about the people complaining should of done their research better before buying. dumb people.                                                                                                                                                                                                                                                                                                                                                                                                                                                       |2015-08-31 |\n",
            "|US         |11811565   |RB2Q7DLDN6TH6 |B00WM0QA3M|549298279     |Fossil Women's ES3851 Urban Traveler Multifunction Stainless Steel Watch - Rose                     |Watches         |5          |1            |1          |N   |Y                |Five Stars                                                |for my wife and she loved it, looks great and a great price!                                                                                                                                                                                                                                                                                                                                                                                                                                                                                                                          |2015-08-31 |\n",
            "|US         |49401598   |R2RHFJV0UYBK3Y|B00A4EYBR0|844009113     |INFANTRY Mens Night Vision Analog Quartz Wrist Watch with Nato Nylon Watchband-Red.                 |Watches         |1          |1            |5          |N   |N                |I was about to buy this thinking it was a ...             |I was about to buy this thinking it was a Swiss Army Infantry watch-- the description uses the words infantry and army--- when I realized it must be a fraud for $12.00. This should not be offered on Amazon-- it is designed to confuse consumers.                                                                                                                                                                                                                                                                                                                                  |2015-08-31 |\n",
            "|US         |45925069   |R2Z6JOQ94LFHEP|B00MAMPGGE|263720892     |G-Shock Men's Grey Sport Watch                                                                      |Watches         |5          |1            |2          |N   |Y                |Perfect watch!                                            |Watch is perfect. Rugged with the metal &#34;Bull Bars&#34;. The red accents are a great touch and I get compliments when wearing it. If you are worried about being able to read this in sunlight or in the dark don't! The LED ilumination works great! I might even get this in a different color for my next G-Shock purchase!                                                                                                                                                                                                                                                    |2015-08-31 |\n",
            "|US         |44751341   |RX27XIIWY5JPB |B004LBPB7Q|124278407     |Heiden Quad Watch Winder in Black Leather                                                           |Watches         |4          |0            |0          |N   |Y                |Great quality and build                                   |Great quality and build.<br />The motors are really silent.<br />After fiddling with the settings my watches are always charged and ready to use.                                                                                                                                                                                                                                                                                                                                                                                                                                     |2015-08-31 |\n",
            "|US         |9962330    |R15C7QEZT0LGZN|B00KGTVGKS|28017857      |Fossil Women's ES3621 Serena Crystal-Accented Two-Tone Stainless Steel Watch                        |Watches         |4          |2            |2          |N   |Y                |Satisfied                                                 |The watch was pretty much as it was described and how it looks. I really like the simplicity of it and it looks pretty amazing. It is slightly too big, so I have yet to adjust it, but I'm glad it's too big rather than too small. The weight is good which is what I was hoping for. Very satisfied with this purchase. I was slightly on the fence getting this one because of the previous fossil watch I had, which by some time, did have some gems fall off from ring around the numbers, but so far so good with this one! Excuse my bad lighting for my pic.                |2015-08-31 |\n",
            "|US         |16097204   |R361XSS37V0NCZ|B0039UT5OU|685450910     |Casio General Men's Watches Sporty Digital AE-2000W-1AVDF - WW                                      |Watches         |1          |0            |0          |N   |N                |I do not think this watch is a good product. Do not buy it|I bought this watch on 2013, the screen had a problem 10 months later. I sent the watch back to Casio Service Center in LA, they sent to me a replacement new watch. Last week, less than one year after I received the new watch, the battery is out.  I went to a shop to replace the battery. Then the A button of the watch do not working, so I could not change the time and other settings. I do not think this watch is a good product. Do not buy it.                                                                                                                        |2015-08-31 |\n",
            "|US         |51330346   |ROTNLALUAJAUB |B00MPF0XJQ|767769082     |2Tone Gold Silver Cable Band Ladies Bangle Cuff Watch                                               |Watches         |3          |0            |0          |N   |Y                |Three Stars                                               |It is a cheap watch that looks cheap.  There isn't much else to say.                                                                                                                                                                                                                                                                                                                                                                                                                                                                                                                  |2015-08-31 |\n",
            "|US         |4201739    |R2DYX7QU6BGOHR|B003P1OHHS|648595227     |Bulova Men's 98B143 Precisionist Charcoal Grey Dial Bracelet Watch                                  |Watches         |5          |0            |0          |N   |Y                |Five Stars                                                |Heavier than i though                                                                                                                                                                                                                                                                                                                                                                                                                                                                                                                                                                 |2015-08-31 |\n",
            "|US         |26339765   |RWASY7FKI7QOT |B00R70YEOE|457338020     |Casio - G-Shock - Gulfmaster - Black - GWN1000C-1A                                                  |Watches         |5          |2            |3          |N   |Y                |Worth it - love it                                        |Had it for several weeks now and I love it - reliable, functional, wears easy, not too heavy.  I also get a lot of comments on it - great watch!                                                                                                                                                                                                                                                                                                                                                                                                                                      |2015-08-31 |\n",
            "|US         |2692576    |R2KKYZIN3CCL21|B000FVE3BG|824370661     |Invicta Men's 3329 Force Collection Lefty Watch                                                     |Watches         |5          |0            |0          |N   |Y                |This is when different is good.                           |This one is different from the rest of my Invictas. I like the big watches but this one gave a classy more defined look for the craftsmanship. All of the colors compliment each other. It all starts from the stitching of the band.  Very nice watch.                                                                                                                                                                                                                                                                                                                               |2015-08-31 |\n",
            "|US         |44713366   |R22H4FGVD5O52O|B008X6JB12|814431355     |Seiko Women's SUT068 Dress Solar Classic Diamond-Accented Two-Tone Stainless Steel Watch            |Watches         |4          |1            |1          |N   |Y                |Thewatch is attractive and easy to read                   |The watch is attractive and easy to read, except for the date. The little diamonds are very, very tiny. All in all, I'm happy with it.                                                                                                                                                                                                                                                                                                                                                                                                                                                |2015-08-31 |\n",
            "|US         |32778769   |R11UACZERCM4ZY|B0040UOFPW|187700878     |Anne Klein Women's 109271MPTT Swarovski Crystal Accented Two-Tone Multi-Chain Bracelet Watch        |Watches         |5          |0            |0          |N   |Y                |Five Stars                                                |said my wife..                                                                                                                                                                                                                                                                                                                                                                                                                                                                                                                                                                        |2015-08-31 |\n",
            "|US         |27258523   |R1AT8NQ38UQOL6|B00UR2R5UY|594315262     |Guess U13630G1 Men's day and date Gunmetal dial Gunmetal tone bracelet                              |Watches         |5          |0            |0          |N   |Y                |Five Stars                                                |Nice watch, on time delivery from seller.                                                                                                                                                                                                                                                                                                                                                                                                                                                                                                                                             |2015-08-31 |\n",
            "|US         |42646538   |R2NCZRQGIF1Q75|B00HFF57L0|520810507     |Nixon Men's Geo Volt Sentry Stainless Steel Watch with Link Bracelet                                |Watches         |4          |0            |0          |N   |Y                |Very stylish                                              |Looks great and love to wear this watch.  Only negative thing is due to its blue/black colors, it is difficult to read in average or low light.  Good thing for me, I wear a watch for looks and not really for telling the time.                                                                                                                                                                                                                                                                                                                                                     |2015-08-31 |\n",
            "+-----------+-----------+--------------+----------+--------------+----------------------------------------------------------------------------------------------------+----------------+-----------+-------------+-----------+----+-----------------+----------------------------------------------------------+--------------------------------------------------------------------------------------------------------------------------------------------------------------------------------------------------------------------------------------------------------------------------------------------------------------------------------------------------------------------------------------------------------------------------------------------------------------------------------------------------------------------------------------------------------------------------------------+-----------+\n",
            "only showing top 20 rows\n",
            "\n"
          ]
        }
      ]
    },
    {
      "cell_type": "code",
      "metadata": {
        "colab": {
          "base_uri": "https://localhost:8080/"
        },
        "id": "aTAbfGXgL99g",
        "outputId": "60656783-4a39-49c3-b3b8-48503f6d757b"
      },
      "source": [
        "dropna_df.columns"
      ],
      "execution_count": 8,
      "outputs": [
        {
          "output_type": "execute_result",
          "data": {
            "text/plain": [
              "['marketplace',\n",
              " 'customer_id',\n",
              " 'review_id',\n",
              " 'product_id',\n",
              " 'product_parent',\n",
              " 'product_title',\n",
              " 'product_category',\n",
              " 'star_rating',\n",
              " 'helpful_votes',\n",
              " 'total_votes',\n",
              " 'vine',\n",
              " 'verified_purchase',\n",
              " 'review_headline',\n",
              " 'review_body',\n",
              " 'review_date']"
            ]
          },
          "metadata": {},
          "execution_count": 8
        }
      ]
    },
    {
      "cell_type": "code",
      "metadata": {
        "colab": {
          "base_uri": "https://localhost:8080/"
        },
        "id": "PHSda1PIMTiu",
        "outputId": "88f9123c-f412-4cf8-c52c-fc1b46ded8ea"
      },
      "source": [
        "dropna_df.describe"
      ],
      "execution_count": 9,
      "outputs": [
        {
          "output_type": "execute_result",
          "data": {
            "text/plain": [
              "<bound method DataFrame.describe of DataFrame[marketplace: string, customer_id: int, review_id: string, product_id: string, product_parent: int, product_title: string, product_category: string, star_rating: int, helpful_votes: int, total_votes: int, vine: string, verified_purchase: string, review_headline: string, review_body: string, review_date: string]>"
            ]
          },
          "metadata": {},
          "execution_count": 9
        }
      ]
    },
    {
      "cell_type": "code",
      "metadata": {
        "id": "6rsyeBclMTnP"
      },
      "source": [
        "# extracting number of rows from the Dataframe\n",
        "row = dropna_df.count()\n",
        "   "
      ],
      "execution_count": 10,
      "outputs": []
    },
    {
      "cell_type": "code",
      "metadata": {
        "id": "nTk3QocMMTsc"
      },
      "source": [
        "# extracting number of columns from the Dataframe\n",
        "col = len(dropna_df.columns)"
      ],
      "execution_count": 11,
      "outputs": []
    },
    {
      "cell_type": "code",
      "metadata": {
        "colab": {
          "base_uri": "https://localhost:8080/"
        },
        "id": "IykOvSvjRx6_",
        "outputId": "4db66696-11e1-48c7-b87e-20b5496f1e4b"
      },
      "source": [
        "# Change the datatype of columns\n",
        "# We can also make use of datatypes from \n",
        "# pyspark.sql.types\n",
        "from pyspark.sql.types import StringType, DateType, IntegerType\n",
        "  \n",
        "new_df = dropna_df \\\n",
        "  .withColumn(\"star_rating\" ,\n",
        "              dropna_df[\"star_rating\"]\n",
        "              .cast(IntegerType())) \\\n",
        "  .withColumn(\"review_date\"  ,\n",
        "              dropna_df[\"review_date\"]\n",
        "              .cast(DateType())) \\\n",
        "  \n",
        "new_df.printSchema()"
      ],
      "execution_count": 12,
      "outputs": [
        {
          "output_type": "stream",
          "name": "stdout",
          "text": [
            "root\n",
            " |-- marketplace: string (nullable = true)\n",
            " |-- customer_id: integer (nullable = true)\n",
            " |-- review_id: string (nullable = true)\n",
            " |-- product_id: string (nullable = true)\n",
            " |-- product_parent: integer (nullable = true)\n",
            " |-- product_title: string (nullable = true)\n",
            " |-- product_category: string (nullable = true)\n",
            " |-- star_rating: integer (nullable = true)\n",
            " |-- helpful_votes: integer (nullable = true)\n",
            " |-- total_votes: integer (nullable = true)\n",
            " |-- vine: string (nullable = true)\n",
            " |-- verified_purchase: string (nullable = true)\n",
            " |-- review_headline: string (nullable = true)\n",
            " |-- review_body: string (nullable = true)\n",
            " |-- review_date: date (nullable = true)\n",
            "\n"
          ]
        }
      ]
    },
    {
      "cell_type": "code",
      "metadata": {
        "colab": {
          "base_uri": "https://localhost:8080/"
        },
        "id": "dItG5Xa0RyBy",
        "outputId": "52c4a99a-ac71-47f4-8323-e30cd06099b2"
      },
      "source": [
        "new_df.show(10)"
      ],
      "execution_count": 13,
      "outputs": [
        {
          "output_type": "stream",
          "name": "stdout",
          "text": [
            "+-----------+-----------+--------------+----------+--------------+--------------------+----------------+-----------+-------------+-----------+----+-----------------+--------------------+--------------------+-----------+\n",
            "|marketplace|customer_id|     review_id|product_id|product_parent|       product_title|product_category|star_rating|helpful_votes|total_votes|vine|verified_purchase|     review_headline|         review_body|review_date|\n",
            "+-----------+-----------+--------------+----------+--------------+--------------------+----------------+-----------+-------------+-----------+----+-----------------+--------------------+--------------------+-----------+\n",
            "|         US|    3653882|R3O9SGZBVQBV76|B00FALQ1ZC|     937001370|Invicta Women's 1...|         Watches|          5|            0|          0|   N|                Y|          Five Stars|Absolutely love t...| 2015-08-31|\n",
            "|         US|   14661224| RKH8BNC3L5DLF|B00D3RGO20|     484010722|Kenneth Cole New ...|         Watches|          5|            0|          0|   N|                Y|I love thiswatch ...|I love this watch...| 2015-08-31|\n",
            "|         US|   27324930|R2HLE8WKZSU3NL|B00DKYC7TK|     361166390|Ritche 22mm Black...|         Watches|          2|            1|          1|   N|                Y|           Two Stars|           Scratches| 2015-08-31|\n",
            "|         US|    7211452|R31U3UH5AZ42LL|B000EQS1JW|     958035625|Citizen Men's BM8...|         Watches|          5|            0|          0|   N|                Y|          Five Stars|It works well on ...| 2015-08-31|\n",
            "|         US|   12733322|R2SV659OUJ945Y|B00A6GFD7S|     765328221|Orient ER27009B M...|         Watches|          4|            0|          0|   N|                Y|Beautiful face, b...|Beautiful watch f...| 2015-08-31|\n",
            "|         US|    6576411| RA51CP8TR5A2L|B00EYSOSE8|     230493695|Casio Men's GW-94...|         Watches|          5|            0|          0|   N|                Y|       No complaints|i love this watch...| 2015-08-31|\n",
            "|         US|   11811565| RB2Q7DLDN6TH6|B00WM0QA3M|     549298279|Fossil Women's ES...|         Watches|          5|            1|          1|   N|                Y|          Five Stars|for my wife and s...| 2015-08-31|\n",
            "|         US|   49401598|R2RHFJV0UYBK3Y|B00A4EYBR0|     844009113|INFANTRY Mens Nig...|         Watches|          1|            1|          5|   N|                N|I was about to bu...|I was about to bu...| 2015-08-31|\n",
            "|         US|   45925069|R2Z6JOQ94LFHEP|B00MAMPGGE|     263720892|G-Shock Men's Gre...|         Watches|          5|            1|          2|   N|                Y|      Perfect watch!|Watch is perfect....| 2015-08-31|\n",
            "|         US|   44751341| RX27XIIWY5JPB|B004LBPB7Q|     124278407|Heiden Quad Watch...|         Watches|          4|            0|          0|   N|                Y|Great quality and...|Great quality and...| 2015-08-31|\n",
            "+-----------+-----------+--------------+----------+--------------+--------------------+----------------+-----------+-------------+-----------+----+-----------------+--------------------+--------------------+-----------+\n",
            "only showing top 10 rows\n",
            "\n"
          ]
        }
      ]
    },
    {
      "cell_type": "code",
      "metadata": {
        "colab": {
          "base_uri": "https://localhost:8080/"
        },
        "id": "IJXN7F6DRyFt",
        "outputId": "e1374e79-ea2e-4fa1-d19c-f8c22d76a846"
      },
      "source": [
        "# Remove leading and trailing space of the column in pyspark\n",
        "\n",
        "from pyspark.sql.functions import *\n",
        "\n",
        "new_df = new_df.withColumn('customer_id', trim(new_df.customer_id))\n",
        "\n",
        "new_df.show(10)\n"
      ],
      "execution_count": 15,
      "outputs": [
        {
          "output_type": "stream",
          "name": "stdout",
          "text": [
            "+-----------+-----------+--------------+----------+--------------+--------------------+----------------+-----------+-------------+-----------+----+-----------------+--------------------+--------------------+-----------+\n",
            "|marketplace|customer_id|     review_id|product_id|product_parent|       product_title|product_category|star_rating|helpful_votes|total_votes|vine|verified_purchase|     review_headline|         review_body|review_date|\n",
            "+-----------+-----------+--------------+----------+--------------+--------------------+----------------+-----------+-------------+-----------+----+-----------------+--------------------+--------------------+-----------+\n",
            "|         US|    3653882|R3O9SGZBVQBV76|B00FALQ1ZC|     937001370|Invicta Women's 1...|         Watches|          5|            0|          0|   N|                Y|          Five Stars|Absolutely love t...| 2015-08-31|\n",
            "|         US|   14661224| RKH8BNC3L5DLF|B00D3RGO20|     484010722|Kenneth Cole New ...|         Watches|          5|            0|          0|   N|                Y|I love thiswatch ...|I love this watch...| 2015-08-31|\n",
            "|         US|   27324930|R2HLE8WKZSU3NL|B00DKYC7TK|     361166390|Ritche 22mm Black...|         Watches|          2|            1|          1|   N|                Y|           Two Stars|           Scratches| 2015-08-31|\n",
            "|         US|    7211452|R31U3UH5AZ42LL|B000EQS1JW|     958035625|Citizen Men's BM8...|         Watches|          5|            0|          0|   N|                Y|          Five Stars|It works well on ...| 2015-08-31|\n",
            "|         US|   12733322|R2SV659OUJ945Y|B00A6GFD7S|     765328221|Orient ER27009B M...|         Watches|          4|            0|          0|   N|                Y|Beautiful face, b...|Beautiful watch f...| 2015-08-31|\n",
            "|         US|    6576411| RA51CP8TR5A2L|B00EYSOSE8|     230493695|Casio Men's GW-94...|         Watches|          5|            0|          0|   N|                Y|       No complaints|i love this watch...| 2015-08-31|\n",
            "|         US|   11811565| RB2Q7DLDN6TH6|B00WM0QA3M|     549298279|Fossil Women's ES...|         Watches|          5|            1|          1|   N|                Y|          Five Stars|for my wife and s...| 2015-08-31|\n",
            "|         US|   49401598|R2RHFJV0UYBK3Y|B00A4EYBR0|     844009113|INFANTRY Mens Nig...|         Watches|          1|            1|          5|   N|                N|I was about to bu...|I was about to bu...| 2015-08-31|\n",
            "|         US|   45925069|R2Z6JOQ94LFHEP|B00MAMPGGE|     263720892|G-Shock Men's Gre...|         Watches|          5|            1|          2|   N|                Y|      Perfect watch!|Watch is perfect....| 2015-08-31|\n",
            "|         US|   44751341| RX27XIIWY5JPB|B004LBPB7Q|     124278407|Heiden Quad Watch...|         Watches|          4|            0|          0|   N|                Y|Great quality and...|Great quality and...| 2015-08-31|\n",
            "+-----------+-----------+--------------+----------+--------------+--------------------+----------------+-----------+-------------+-----------+----+-----------------+--------------------+--------------------+-----------+\n",
            "only showing top 10 rows\n",
            "\n"
          ]
        }
      ]
    },
    {
      "cell_type": "code",
      "metadata": {
        "colab": {
          "base_uri": "https://localhost:8080/"
        },
        "id": "WpGsLQEtSKHW",
        "outputId": "229fa5c4-7858-4cfb-c4f7-51139e098c5a"
      },
      "source": [
        "# extracting number of rows from the Dataframe\n",
        "row = new_df.count()\n",
        "   \n",
        "# extracting number of columns from the Dataframe\n",
        "col = len(new_df.columns)\n",
        " \n",
        "# printing\n",
        "print(f'Dimension of the new_df is: {(row,col)}')\n",
        "print(f'Number of Rows are: {row}')\n",
        "print(f'Number of Columns are: {col}')"
      ],
      "execution_count": 16,
      "outputs": [
        {
          "output_type": "stream",
          "name": "stdout",
          "text": [
            "Dimension of the new_df is: (960679, 15)\n",
            "Number of Rows are: 960679\n",
            "Number of Columns are: 15\n"
          ]
        }
      ]
    },
    {
      "cell_type": "code",
      "metadata": {
        "id": "MaR8QMKmSKSR"
      },
      "source": [
        ""
      ],
      "execution_count": null,
      "outputs": []
    }
  ]
}